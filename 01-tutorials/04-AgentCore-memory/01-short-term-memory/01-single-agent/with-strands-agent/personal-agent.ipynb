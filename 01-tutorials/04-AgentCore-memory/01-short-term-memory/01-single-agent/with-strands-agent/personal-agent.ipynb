{
 "cells": [
  {
   "cell_type": "markdown",
   "id": "overview",
   "metadata": {},
   "source": "# Strands Agents with AgentCore Memory（短期記憶）\n\n\n## はじめに\n\nこのチュートリアルでは、AgentCore **短期記憶**（生のイベント）を持つStrandsエージェントを使用して**パーソナルエージェント**を構築する方法を説明します。エージェントは`get_last_k_turns`を使用してセッション内の最近の会話を記憶し、ユーザーが戻ってきた時に会話をシームレスに継続できます。\n\n\n### チュートリアルの詳細\n\n| 項目                | 詳細                                                                             |\n|:--------------------|:---------------------------------------------------------------------------------|\n| チュートリアルタイプ | 短期会話型                                                                       |\n| エージェントタイプ   | パーソナルエージェント                                                           |\n| エージェントフレームワーク | Strands Agents                                                                   |\n| LLMモデル           | Anthropic Claude Sonnet 3.7                                                      |\n| チュートリアル構成要素 | AgentCore短期メモリ、AgentInitializedEventとMessageAddedEventフック               |\n| 例の複雑度          | 初級                                                                             |\n\n学習内容：\n- 会話継続のための短期記憶の使用\n- 最後のK会話ターンの取得\n- リアルタイム情報のためのウェブ検索ツール\n- 会話履歴によるエージェントの初期化\n\n## アーキテクチャ\n<div style=\"text-align:left\">\n    <img src=\"architecture.png\" width=\"65%\" />\n</div>\n\n## 前提条件\n\n- Python 3.10+\n- AgentCoreメモリ権限を持つAWS認証情報\n- AgentCoreメモリロールARN\n- Amazon Bedrockモデルへのアクセス\n\n環境をセットアップして始めましょう！"
  },
  {
   "cell_type": "markdown",
   "id": "setup",
   "metadata": {},
   "source": "## ステップ1: セットアップとインポート"
  },
  {
   "cell_type": "code",
   "execution_count": null,
   "id": "641512ed",
   "metadata": {},
   "outputs": [],
   "source": [
    "!pip install -qr requirements.txt"
   ]
  },
  {
   "cell_type": "code",
   "execution_count": null,
   "id": "setup_code",
   "metadata": {},
   "outputs": [],
   "source": "import logging\nfrom datetime import datetime\n\n# セットアップ\nlogging.basicConfig(level=logging.INFO)\nlogger = logging.getLogger(\"personal-agent\")"
  },
  {
   "cell_type": "code",
   "execution_count": null,
   "id": "imports",
   "metadata": {},
   "outputs": [],
   "source": "# インポート\nimport os\nfrom strands import Agent, tool\nfrom strands.hooks import AgentInitializedEvent, HookProvider, HookRegistry, MessageAddedEvent\nfrom bedrock_agentcore.memory import MemoryClient\n\n# 設定\nREGION = os.getenv('AWS_REGION', 'us-west-2') # エージェント用のAWSリージョン\nACTOR_ID = \"user_123\" # 任意の一意の識別子（AgentID、User IDなど）\nSESSION_ID = \"personal_session_001\" # 一意のセッション識別子"
  },
  {
   "cell_type": "markdown",
   "id": "step2",
   "metadata": {},
   "source": "## ステップ2: ウェブ検索ツール\n\nまず、エージェント用のシンプルなウェブ検索ツールを作成しましょう。"
  },
  {
   "cell_type": "code",
   "execution_count": null,
   "id": "web_search",
   "metadata": {},
   "outputs": [],
   "source": "from ddgs.exceptions import DDGSException, RatelimitException\nfrom ddgs import DDGS\n\n@tool\ndef websearch(keywords: str, region: str = \"us-en\", max_results: int = 5) -> str:\n    \"\"\"更新された情報をウェブで検索します。\n    \n    Args:\n        keywords (str): 検索クエリのキーワード。\n        region (str): 検索リージョン: wt-wt, us-en, uk-en, ru-ru, など。\n        max_results (int | None): 返す結果の最大数。\n    Returns:\n        検索結果の辞書のリスト。\n    \n    \"\"\"\n    try:\n        results = DDGS().text(keywords, region=region, max_results=max_results)\n        return results if results else \"結果が見つかりませんでした。\"\n    except RatelimitException:\n        return \"レート制限に達しました。後でもう一度お試しください。\"\n    except DDGSException as e:\n        return f\"検索エラー: {e}\"\n    except Exception as e:\n        return f\"検索エラー: {str(e)}\"\n\nlogger.info(\"✅ ウェブ検索ツールが準備できました\")"
  },
  {
   "cell_type": "markdown",
   "id": "step3",
   "metadata": {},
   "source": "## ステップ3: メモリリソースの作成\n短期記憶の場合、ストラテジーを使用せずにメモリリソースを作成します。これにより、`get_last_k_turns`で取得できる生の会話ターンが保存されます。"
  },
  {
   "cell_type": "code",
   "execution_count": null,
   "id": "create_memory",
   "metadata": {},
   "outputs": [],
   "source": "from botocore.exceptions import ClientError\n\n# メモリクライアントを初期化\nclient = MemoryClient(region_name=REGION)\nmemory_name = \"PersonalAgentMemory\"\n\ntry:\n    # ストラテジーなしでメモリリソースを作成（そのため短期記憶のみアクセス可能）\n    memory = client.create_memory_and_wait(\n        name=memory_name,\n        strategies=[],  # 短期記憶にはストラテジーなし\n        description=\"パーソナルエージェント用の短期記憶\",\n        event_expiry_days=7, # 短期記憶の保持期間。これは最大365日まで可能。\n    )\n    memory_id = memory['id']\n    logger.info(f\"✅ メモリを作成しました: {memory_id}\")\nexcept ClientError as e:\n    logger.info(f\"❌ エラー: {e}\")\n    if e.response['Error']['Code'] == 'ValidationException' and \"already exists\" in str(e):\n        # メモリが既に存在する場合、IDを取得\n        memories = client.list_memories()\n        memory_id = next((m['id'] for m in memories if m['id'].startswith(memory_name)), None)\n        logger.info(f\"メモリが既に存在します。既存のメモリIDを使用: {memory_id}\")\nexcept Exception as e:\n    # メモリ作成中のエラーを表示\n    logger.error(f\"❌ エラー: {e}\")\n    import traceback\n    traceback.print_exc()\n    # エラー時のクリーンアップ - 部分的に作成されたメモリを削除\n    if memory_id:\n        try:\n            client.delete_memory_and_wait(memory_id=memory_id)\n            logger.info(f\"メモリをクリーンアップしました: {memory_id}\")\n        except Exception as cleanup_error:\n            logger.error(f\"メモリのクリーンアップに失敗: {cleanup_error}\")"
  },
  {
   "cell_type": "markdown",
   "id": "step4",
   "metadata": {},
   "source": "## ステップ4: メモリフック\n\nこのステップでは、メモリ操作を自動化するカスタムの`MemoryHookProvider`クラスを定義します。フックとは、エージェントの実行ライフサイクルの特定の時点で実行される特別な関数です。作成しているメモリフックは2つの主要な機能を持ちます：\n1. **最近の会話を読み込む**: `AgentInitializedEvent`フックを使用して、エージェントが初期化された時に自動的に最近の会話履歴を読み込みます。\n2. **最後のメッセージを保存する**: 新しい会話メッセージを保存します。\n\nこれにより、手動管理なしにシームレスなメモリ体験を作成します。"
  },
  {
   "cell_type": "code",
   "execution_count": null,
   "id": "memory_hook",
   "metadata": {},
   "outputs": [],
   "source": "class MemoryHookProvider(HookProvider):\n    def __init__(self, memory_client: MemoryClient, memory_id: str, actor_id: str, session_id: str):\n        self.memory_client = memory_client\n        self.memory_id = memory_id\n        self.actor_id = actor_id\n        self.session_id = session_id\n    \n    def on_agent_initialized(self, event: AgentInitializedEvent):\n        \"\"\"エージェント開始時に最近の会話履歴を読み込み\"\"\"\n        try:\n            # メモリから最後の5会話ターンを読み込み\n            recent_turns = self.memory_client.get_last_k_turns(\n                memory_id=self.memory_id,\n                actor_id=self.actor_id,\n                session_id=self.session_id,\n                k=5\n            )\n            \n            if recent_turns:\n                # コンテキスト用に会話履歴をフォーマット\n                context_messages = []\n                for turn in recent_turns:\n                    for message in turn:\n                        role = message['role']\n                        content = message['content']['text']\n                        context_messages.append(f\"{role}: {content}\")\n                \n                context = \"\\n\".join(context_messages)\n                # エージェントのシステムプロンプトにコンテキストを追加\n                event.agent.system_prompt += f\"\\n\\n最近の会話:\\n{context}\"\n                logger.info(f\"✅ {len(recent_turns)}個の会話ターンを読み込みました\")\n                \n        except Exception as e:\n            logger.error(f\"メモリ読み込みエラー: {e}\")\n    \n    def on_message_added(self, event: MessageAddedEvent):\n        \"\"\"メッセージをメモリに保存\"\"\"\n        messages = event.agent.messages\n        try:\n            self.memory_client.create_event(\n                memory_id=self.memory_id,\n                actor_id=self.actor_id,\n                session_id=self.session_id,\n                messages=[(messages[-1][\"content\"][0][\"text\"], messages[-1][\"role\"])]\n            )\n        except Exception as e:\n            logger.error(f\"メモリ保存エラー: {e}\")\n    \n    def register_hooks(self, registry: HookRegistry):\n        # メモリフックを登録\n        registry.add_callback(MessageAddedEvent, self.on_message_added)\n        registry.add_callback(AgentInitializedEvent, self.on_agent_initialized)"
  },
  {
   "cell_type": "markdown",
   "id": "step5",
   "metadata": {},
   "source": "## ステップ5: ウェブ検索機能付きパーソナルエージェントの作成"
  },
  {
   "cell_type": "code",
   "execution_count": null,
   "id": "create_agent",
   "metadata": {},
   "outputs": [],
   "source": "def create_personal_agent():\n    \"\"\"メモリとウェブ検索機能付きパーソナルエージェントを作成\"\"\"\n    agent = Agent(\n        name=\"PersonalAssistant\",\n        model=\"us.anthropic.claude-3-7-sonnet-20250219-v1:0\",  # または希望のモデル\n        system_prompt=f\"\"\"あなたはウェブ検索機能付きの役立つパーソナルアシスタントです。\n        \n        あなたができること:\n        - 一般的な質問と情報検索\n        - 現在の情報のためのウェブ検索\n        - 個人的なタスク管理\n        \n        現在の情報が必要な場合は、websearch関数を使用してください。\n        今日の日付: {datetime.today().strftime('%Y-%m-%d')}\n        親切でプロフェッショナルに対応してください。\"\"\",\n        hooks=[MemoryHookProvider(client, memory_id, ACTOR_ID, SESSION_ID)],\n        tools=[websearch],\n    )\n    return agent\n\n# エージェントを作成\nagent = create_personal_agent()\nlogger.info(\"✅ メモリとウェブ検索機能付きパーソナルエージェントが作成されました\")"
  },
  {
   "cell_type": "markdown",
   "id": "step6",
   "metadata": {},
   "source": "#### おめでとうございます！エージェントの準備ができました！:) \n## エージェントをテストしましょう"
  },
  {
   "cell_type": "code",
   "execution_count": null,
   "id": "first_session",
   "metadata": {},
   "outputs": [],
   "source": "# メモリ付きで会話をテスト\nprint(\"=== 最初の会話 ===\")\nprint(f\"ユーザー: 私の名前はAlexで、AIについて学ぶことに興味があります。\")\nprint(f\"エージェント: \", end=\"\")\nagent(\"私の名前はAlexで、AIについて学ぶことに興味があります。\")"
  },
  {
   "cell_type": "code",
   "execution_count": null,
   "id": "second_message",
   "metadata": {},
   "outputs": [],
   "source": "print(f\"ユーザー: 2025年の最新のAIトレンドを検索してもらえますか？\")\nprint(f\"エージェント: \", end=\"\")\nagent(\"2025年の最新のAIトレンドを検索してもらえますか？\")"
  },
  {
   "cell_type": "code",
   "execution_count": null,
   "id": "third_message",
   "metadata": {},
   "outputs": [],
   "source": "print(f\"ユーザー: 特に機械学習の応用に興味があります。\")\nprint(f\"エージェント: \", end=\"\")\nagent(\"特に機械学習の応用に興味があります。\")"
  },
  {
   "cell_type": "markdown",
   "id": "step7",
   "metadata": {},
   "source": "## メモリ継続性のテスト\n\nメモリシステムが正しく動作しているかテストするため、新しいエージェントインスタンスを作成して、以前に保存された情報にアクセスできるかを確認します："
  },
  {
   "cell_type": "code",
   "execution_count": null,
   "id": "agent_restart",
   "metadata": {},
   "outputs": [],
   "source": "# 新しいエージェントインスタンスを作成（ユーザーが戻ってきた場合をシミュレート）\nprint(\"=== ユーザーが戻る - 新しいセッション ===\")\nnew_agent = create_personal_agent()\n\n# メモリ継続性をテスト\nprint(f\"ユーザー: 私の名前は何でしたか？\")\nprint(f\"エージェント: \", end=\"\")\nnew_agent(\"私の名前は何でしたか？\")\n\nprint(f\"ユーザー: 機械学習についてもっと情報を検索してもらえますか？\")\nprint(f\"エージェント: \", end=\"\")\nnew_agent(\"機械学習についてもっと情報を検索してもらえますか？\")"
  },
  {
   "cell_type": "markdown",
   "id": "step8",
   "metadata": {},
   "source": "## 保存されたメモリの表示"
  },
  {
   "cell_type": "code",
   "execution_count": null,
   "id": "verify_memory",
   "metadata": {},
   "outputs": [],
   "source": "# メモリに保存されている内容を確認\nprint(\"=== メモリの内容 ===\")\nrecent_turns = client.get_last_k_turns(\n    memory_id=memory_id,\n    actor_id=ACTOR_ID,\n    session_id=SESSION_ID,\n    k=3 # kを調整してより多くまたは少ないターンを表示\n)\n\nfor i, turn in enumerate(recent_turns, 1):\n    print(f\"ターン {i}:\")\n    for message in turn:\n        role = message['role']\n        content = message['content']['text'][:100] + \"...\" if len(message['content']['text']) > 100 else message['content']['text']\n        print(f\"  {role}: {content}\")\n    print()"
  },
  {
   "cell_type": "markdown",
   "id": "summary",
   "metadata": {},
   "source": "## まとめ\n\nこのチュートリアルでは、パーソナルエージェントの構築方法を示しました。学習したこと：\n\n- ストラテジーなしでメモリリソースを作成\n- 会話履歴のため`get_last_k_turns`を使用\n- エージェントにウェブ検索機能を追加\n- コンテキスト読み込み用メモリフックの実装\n\n**次のステップ：**\n- より高度なツールを追加\n- 長期記憶ストラテジーの実装\n- 複数ソースでの検索機能の強化"
  },
  {
   "cell_type": "markdown",
   "id": "cleanup",
   "metadata": {},
   "source": "## クリーンアップ（オプション）"
  },
  {
   "cell_type": "code",
   "execution_count": null,
   "id": "cleanup_code",
   "metadata": {},
   "outputs": [],
   "source": "# メモリリソースを削除する場合はコメントアウトを解除\n# client.delete_memory_and_wait(memory_id)\n# logger.info(f\"✅ メモリを削除しました: {memory_id}\")"
  }
 ],
 "metadata": {
  "kernelspec": {
   "display_name": "conda_pytorch_p310",
   "language": "python",
   "name": "conda_pytorch_p310"
  },
  "language_info": {
   "codemirror_mode": {
    "name": "ipython",
    "version": 3
   },
   "file_extension": ".py",
   "mimetype": "text/x-python",
   "name": "python",
   "nbconvert_exporter": "python",
   "pygments_lexer": "ipython3",
   "version": "3.10.14"
  }
 },
 "nbformat": 4,
 "nbformat_minor": 5
}