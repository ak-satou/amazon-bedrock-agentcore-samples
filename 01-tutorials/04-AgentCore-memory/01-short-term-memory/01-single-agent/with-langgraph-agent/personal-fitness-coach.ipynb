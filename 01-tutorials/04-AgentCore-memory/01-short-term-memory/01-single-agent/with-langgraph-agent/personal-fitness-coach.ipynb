{
 "cells": [
  {
   "cell_type": "markdown",
   "id": "fda134cd-247d-40e4-b37f-0ab0a2d57943",
   "metadata": {},
   "source": "# LangGraph with AgentCore Memory Tool (短期記憶)"
  },
  {
   "cell_type": "markdown",
   "id": "98765432-abcd-1234-efgh-ijklmnopqrst",
   "metadata": {},
   "source": "## はじめに\nこのノートブックでは、LangGraphフレームワークを使用して、Amazon Bedrock AgentCoreのメモリ機能を会話型AIエージェントと統合する方法を説明します。**短期記憶**の保持にフォーカスし、単一の会話セッション内でエージェントが明示的なコンテキスト管理なしに、会話の前の部分から情報を思い出せるようにします。\n\n\n## チュートリアルの詳細\n\n| 項目                | 詳細                                                                             |\n|:--------------------|:---------------------------------------------------------------------------------|\n| チュートリアルタイプ | 短期会話型                                                                       |\n| エージェント用途     | パーソナルフィットネス                                                           |\n| エージェントフレームワーク | Langgraph                                                                        |\n| LLMモデル           | Anthropic Claude Sonnet 3                                                        |\n| チュートリアル構成要素 | AgentCore短期メモリ、Langgraph、ツールによるメモリ検索                            |\n| 例の複雑度          | 初級                                                                             |\n\n学習内容：\n- AgentCoreメモリを使用した短期記憶用メモリストアの作成\n- LangGraphを使用した構造化メモリワークフローを持つエージェントの作成\n- 会話履歴検索用メモリツールの実装\n- 単一セッション内でのコンテキスト情報へのアクセスと利用\n- 効果的なメモリ想起による会話体験の向上\n\n\n### シナリオのコンテキスト\n\nこの例では、会話を通して言及されるワークアウトの詳細、フィットネス目標、身体的制限、運動の好みを記憶できる「**パーソナルフィットネスコーチ**」を作成します。このアシスタントは、効果的な短期記憶管理により、ユーザーが情報を繰り返し述べる必要なく、より自然でパーソナライズされたフィットネスコーチング体験を可能にする方法を実演します。\n\n\n## アーキテクチャ\n<div style=\"text-align:left\">\n    <img src=\"architecture.png\" width=\"65%\" />\n</div>\n\n## 前提条件\n\n- Python 3.10+\n- 適切な権限を持つAWSアカウント\n- AgentCoreメモリに適切な権限を持つAWS IAMロール\n- Amazon Bedrockモデルへのアクセス\n\n環境をセットアップして始めましょう！"
  },
  {
   "cell_type": "markdown",
   "id": "6d6fc488-0f70-416b-a0e9-57671e0bfc7d",
   "metadata": {},
   "source": "## ステップ1: 環境セットアップ\nこのノートブックを動作させるために必要なライブラリをすべてインポートし、クライアントを定義しましょう。"
  },
  {
   "cell_type": "code",
   "execution_count": null,
   "id": "36e53844-5916-4470-a656-d59c64af4e84",
   "metadata": {},
   "outputs": [],
   "source": [
    "!pip install -qr requirements.txt"
   ]
  },
  {
   "cell_type": "code",
   "execution_count": null,
   "id": "aa41d38e-859c-4634-a5ef-624cbe6e63ca",
   "metadata": {},
   "outputs": [],
   "source": [
    "import logging\n",
    "from datetime import datetime"
   ]
  },
  {
   "cell_type": "markdown",
   "id": "849b4372-ac00-49a8-bcdf-916ac895b10a",
   "metadata": {},
   "source": "Amazon BedrockモデルとAgentCoreに適切な権限を持つリージョンとロールを定義します"
  },
  {
   "cell_type": "code",
   "execution_count": null,
   "id": "6f366c0b-b410-4fe5-8935-c330d5ce04d9",
   "metadata": {},
   "outputs": [],
   "source": [
    "import os\n",
    "region = os.getenv('AWS_REGION', 'us-west-2')\n",
    "\n",
    "logging.basicConfig(level=logging.INFO, format=\"%(asctime)s - %(levelname)s - %(message)s\", datefmt=\"%Y-%m-%d %H:%M:%S\")\n",
    "logger = logging.getLogger(\"agentcore-memory\")"
   ]
  },
  {
   "cell_type": "markdown",
   "id": "a1b2c3d4-e5f6-a7b8-c9d0-e1f2a3b4c5d6",
   "metadata": {},
   "source": "### 統合の仕組み\n\nLangGraphとAgentCoreメモリの統合には以下が含まれます：\n\n1. AgentCoreメモリを使用して会話を短期記憶に保存する\n2. LangGraphの構造化ワークフローでメモリ操作を管理する\n\nこのアプローチにより、メモリ管理を推論から分離し、よりクリーンで保守しやすいエージェントアーキテクチャを作成できます。"
  },
  {
   "cell_type": "markdown",
   "id": "f68f7df8-2904-43a7-8dfb-fdaa72e2f88e",
   "metadata": {},
   "source": "## ステップ2: メモリ作成\nこのセクションでは、AgentCoreメモリSDKを使用してメモリストアを作成します。このメモリストアにより、エージェントが会話からの情報を保持できるようになります。"
  },
  {
   "cell_type": "code",
   "execution_count": null,
   "id": "04d31ed2-78db-42c1-9392-8815229a4a27",
   "metadata": {},
   "outputs": [],
   "source": [
    "from bedrock_agentcore.memory import MemoryClient\n",
    "from botocore.exceptions import ClientError"
   ]
  },
  {
   "cell_type": "code",
   "execution_count": null,
   "id": "ff6ea0be-5073-4990-a2b4-3c44510da3bc",
   "metadata": {},
   "outputs": [],
   "source": [
    "client = MemoryClient(region_name=region)\n",
    "memory_name = \"FitnessCoach\"\n",
    "memory_id = None"
   ]
  },
  {
   "cell_type": "code",
   "execution_count": null,
   "id": "18b2c138-b452-4b2a-9730-6e41c824ee94",
   "metadata": {},
   "outputs": [],
   "source": "try:\n    print(\"メモリを作成中...\")\n    # メモリリソースを作成\n    memory = client.create_memory_and_wait(\n        name=memory_name,                       # このアカウント内のすべてのメモリで一意の名前\n        description=\"フィットネスコーチエージェント\",      # 人間が読める説明\n        strategies=[],                          # 短期記憶にはメモリストラテジーなし\n        event_expiry_days=7,                    # メモリは7日後に期限切れ\n        max_wait=300,                           # メモリ作成の最大待機時間（5分）\n        poll_interval=10                        # 10秒ごとにステータスをチェック\n    )\n\n    # メモリIDを抽出して出力\n    memory_id = memory['id']\n    logger.info(f\"メモリが正常に作成されました。ID: {memory_id}\")\nexcept ClientError as e:\n    if e.response['Error']['Code'] == 'ValidationException' and \"already exists\" in str(e):\n        # メモリが既に存在する場合、IDを取得\n        memories = client.list_memories()\n        memory_id = next((m['id'] for m in memories if m['id'].startswith(memory_name)), None)\n        logger.info(f\"メモリが既に存在します。既存のメモリIDを使用: {memory_id}\")\nexcept Exception as e:\n    # メモリ作成中のエラーを処理\n    logger.info(f\"❌ エラー: {e}\")\n    import traceback\n    traceback.print_exc()\n    # エラー時のクリーンアップ - 部分的に作成されたメモリを削除\n    if memory_id:\n        try:\n            client.delete_memory_and_wait(memory_id=memory_id)\n            logger.info(f\"メモリをクリーンアップしました: {memory_id}\")\n        except Exception as cleanup_error:\n            logger.info(f\"メモリのクリーンアップに失敗: {cleanup_error}\")"
  },
  {
   "cell_type": "markdown",
   "id": "7fac6fd5-6228-4a20-88c0-ae30da48cf3f",
   "metadata": {},
   "source": "## ステップ3: LangGraphエージェント作成\nLangGraphでエージェントを作成するために必要なライブラリをすべてインポートしましょう。"
  },
  {
   "cell_type": "code",
   "execution_count": null,
   "id": "86d2e879-0697-4157-9877-3253b135716a",
   "metadata": {},
   "outputs": [],
   "source": [
    "from langgraph.graph import StateGraph, MessagesState\n",
    "from langgraph.prebuilt import ToolNode, tools_condition\n",
    "from langchain_core.tools import tool\n",
    "from langchain_core.messages import HumanMessage, SystemMessage\n",
    "from langchain_aws import ChatBedrock"
   ]
  },
  {
   "cell_type": "markdown",
   "id": "10c0914c-6af5-4242-9dec-b3f1a05a6432",
   "metadata": {},
   "source": "### LangGraphエージェントの実装\n\nメモリツールを組み込んだLangGraphエージェントを作成しましょう："
  },
  {
   "cell_type": "code",
   "execution_count": null,
   "id": "0fa8672a-f5b6-43b6-b2fe-5fedc080a090",
   "metadata": {},
   "outputs": [],
   "source": "def create_agent(client, memory_id, actor_id, session_id):\n    \"\"\"LangGraphエージェントを作成・設定\"\"\"\n    \n    # LLMを初期化（必要に応じてモデルとパラメータを調整）\n    llm = ChatBedrock(\n        model_id=\"anthropic.claude-3-sonnet-20240229-v1:0\",  # または希望のモデル\n        model_kwargs={\"temperature\": 0.1}\n    )\n    \n    @tool\n    def list_events():\n        \"\"\"必要に応じて最近の情報を検索するために使用されるツール\"\"\" \n        events = client.list_events(\n                memory_id=memory_id,\n                actor_id=actor_id,\n                session_id=session_id,\n                max_results=10\n            )\n        return events\n        \n    \n    # ツールをLLMにバインド\n    tools = [list_events]\n    llm_with_tools = llm.bind_tools(tools)\n    \n    # システムメッセージ\n    system_message = \"\"\"あなたはパーソナルフィットネスコーチ、洗練されたフィットネスガイダンスアシスタントです。\n                        目的：\n                        - ユーザーのフィットネス目標に基づいてワークアウトルーチンを開発する支援\n                        - ユーザーの運動の好み、制限、進歩を記憶する\n                        - パーソナライズされたフィットネス推奨事項とトレーニングプランを提供\n                        メモリ機能：\n                        - list_eventsツールで最近のイベントにアクセスできます\n                        \"\"\"\n    \n    # チャットボットノードを定義\n    def chatbot(state: MessagesState):\n        raw_messages = state[\"messages\"]\n    \n        # 重複や誤った配置を避けるために、既存のシステムメッセージを削除\n        non_system_messages = [msg for msg in raw_messages if not isinstance(msg, SystemMessage)]\n    \n        # SystemMessageが常に最初になることを保証\n        messages = [SystemMessage(content=system_message)] + non_system_messages\n    \n        latest_user_message = next((msg.content for msg in reversed(messages) if isinstance(msg, HumanMessage)), None)\n    \n        # ツールがバインドされたモデルからレスポンスを取得\n        response = llm_with_tools.invoke(messages)\n    \n        # 該当する場合は会話を保存\n        if latest_user_message and response.content.strip():  # レスポンスにコンテンツがあることを確認\n            conversation = [\n                (latest_user_message, \"USER\"),\n                (response.content, \"ASSISTANT\")\n            ]\n            \n            # すべてのメッセージテキストが空でないことを検証\n            if all(msg[0].strip() for msg in conversation):  # 空のメッセージがないことを確認\n                try:\n                    client.create_event(\n                        memory_id=memory_id,\n                        actor_id=actor_id,\n                        session_id=session_id,\n                        messages=conversation\n                    )\n                except Exception as e:\n                    print(f\"会話の保存エラー: {str(e)}\")\n        \n        # 完全なメッセージ履歴にレスポンスを追加\n        return {\"messages\": raw_messages + [response]}\n    \n    # グラフを作成\n    graph_builder = StateGraph(MessagesState)\n    \n    # ノードを追加\n    graph_builder.add_node(\"chatbot\", chatbot)\n    graph_builder.add_node(\"tools\", ToolNode(tools))\n    \n    # エッジを追加\n    graph_builder.add_conditional_edges(\n        \"chatbot\",\n        tools_condition,\n    )\n    graph_builder.add_edge(\"tools\", \"chatbot\")\n    \n    # エントリポイントを設定\n    graph_builder.set_entry_point(\"chatbot\")\n    \n    # グラフをコンパイル\n    return graph_builder.compile()"
  },
  {
   "cell_type": "markdown",
   "id": "929386fc-542f-49c9-9541-daeac8f32348",
   "metadata": {},
   "source": "### エージェント実行用ラッパーの作成\n\nエージェントを実行するためのシンプルなラッパーを作成しましょう："
  },
  {
   "cell_type": "code",
   "execution_count": null,
   "id": "979f87e0-a547-448b-9ef9-b416351c9916",
   "metadata": {},
   "outputs": [],
   "source": "def langgraph_bedrock(payload, agent):\n    \"\"\"\n    ペイロードでエージェントを実行\n    \"\"\"\n    user_input = payload.get(\"prompt\")\n    \n    # LangGraphが期待する形式で入力を作成\n    response = agent.invoke({\"messages\": [HumanMessage(content=user_input)]})\n    \n    # 最終メッセージのコンテンツを抽出\n    return response[\"messages\"][-1].content"
  },
  {
   "cell_type": "markdown",
   "id": "43528c42-384a-4822-970b-929875d50757",
   "metadata": {},
   "source": "## ステップ4: LangGraphエージェントの実行\nAgentCoreメモリ統合によりエージェントを実行できます。"
  },
  {
   "cell_type": "code",
   "execution_count": null,
   "id": "2beeaaea-5e84-483a-aea5-a31e7e2b6769",
   "metadata": {},
   "outputs": [],
   "source": "# この会話用にユニークなアクターIDとセッションIDを作成\nactor_id = f\"user-{datetime.now().strftime('%Y%m%d%H%M%S')}\"\nsession_id = f\"workout-{datetime.now().strftime('%Y%m%d%H%M%S')}\""
  },
  {
   "cell_type": "code",
   "execution_count": null,
   "id": "09d2576d-88da-4b7c-bbe4-34f2bf97db7f",
   "metadata": {},
   "outputs": [],
   "source": "# AgentCoreメモリ統合でエージェントを作成\nagent = create_agent(client, memory_id, actor_id, session_id)"
  },
  {
   "cell_type": "markdown",
   "id": "22334455-6677-8899-aabb-ccddeeff0011",
   "metadata": {},
   "source": "#### おめでとうございます！エージェントが準備できました！！\n\n### エージェントをテストしてみましょう\n\nメモリ機能をテストするためにエージェントとやり取りしてみましょう："
  },
  {
   "cell_type": "code",
   "execution_count": null,
   "id": "db5530d8-a22b-4086-85ec-63435bed9219",
   "metadata": {},
   "outputs": [],
   "source": "response = langgraph_bedrock({\"prompt\": \"こんにちは！今日が初日です。ワークアウトルーチンが必要です。\"}, agent)\nprint(f\"エージェント: {response}\\n\")"
  },
  {
   "cell_type": "code",
   "execution_count": null,
   "id": "aabbccdd-eeff-0011-2233-445566778899",
   "metadata": {},
   "outputs": [],
   "source": "response = langgraph_bedrock({\"prompt\": \"筋肉を付けたいのですが、上腕二頭筋のルーチンを探しています。腰痛の問題があります。\"}, agent)\nprint(f\"エージェント: {response}\\n\")"
  },
  {
   "cell_type": "code",
   "execution_count": null,
   "id": "9988776655-4433-2211-0099-8877665544",
   "metadata": {},
   "outputs": [],
   "source": "response = langgraph_bedrock({\"prompt\": \"3つの運動と回数を教えてもらえますか？\"}, agent)\nprint(f\"エージェント: {response}\\n\")"
  },
  {
   "cell_type": "markdown",
   "id": "1a2b3c4d-5e6f-7g8h-9i0j-1k2l3m4n5o6p",
   "metadata": {},
   "source": "### メモリ持続性のテスト\n\nAgentCoreメモリ統合の力を真に実演するため、新しいエージェントインスタンスを作成して、以前の会話を思い出せるかテストしてみましょう："
  },
  {
   "cell_type": "code",
   "execution_count": null,
   "id": "q1w2e3r4t5y6-u7i8o9p0-a1s2d3f4-g5h6j7k8",
   "metadata": {},
   "outputs": [],
   "source": "# 新しいエージェントインスタンスを作成（新しいセッションをシミュレート）\nnew_agent = create_agent(client, memory_id, actor_id, session_id)\n\n# 新しいエージェントが設定を覚えているかテスト\nresponse = langgraph_bedrock({\n    \"prompt\": \"また会いましたね！前回のワークアウトセッションについて思い出させてもらえますか？\"\n}, new_agent)\n\nprint(\"新しいエージェントセッション:\\n\")\nprint(f\"エージェント: {response}\")"
  },
  {
   "cell_type": "markdown",
   "id": "z1x2c3v4b5n6m7-8k9j0h1g2-f3d4s5a6-p7o8i9u0",
   "metadata": {},
   "source": "## まとめ\n\nこのノートブックでは以下を実演しました：\n\n1. AIエージェント用のAgentCoreメモリリソースの作成方法\n2. メモリ統合を使用したLangGraphワークフローの構築\n3. 会話履歴検索用のメモリツールの実装\n4. 必要な時にメモリを知的に使用するエージェントの作成\n5. エージェントインスタンス間でのメモリ持続性のテスト\n\nこの統合は、構造化ワークフロー（LangGraph）と堅牢なメモリシステム（AgentCoreメモリ）を組み合わせて、より知的でコンテキストを認識するAIエージェントを作成する力を示しています。\n\nここで実演したアプローチは、マルチエージェントシステム、抽出戦略を持つ長期記憶、会話のコンテキストに基づく専門的なメモリ検索など、より複雑な用途に拡張できます。"
  },
  {
   "cell_type": "markdown",
   "id": "213d2a15-3af9-4a07-94b6-f7d39e0fa038",
   "metadata": {},
   "source": "## クリーンアップ\nこのノートブックで使用したリソースをクリーンアップするためにメモリを削除しましょう。"
  },
  {
   "cell_type": "code",
   "execution_count": null,
   "id": "df3893ef-f6c3-4744-9860-ff15e014943c",
   "metadata": {},
   "outputs": [],
   "source": [
    "#client.delete_memory_and_wait(memory_id = memory_id, max_wait = 300, poll_interval =10)"
   ]
  }
 ],
 "metadata": {
  "kernelspec": {
   "display_name": "conda_pytorch_p310",
   "language": "python",
   "name": "conda_pytorch_p310"
  },
  "language_info": {
   "codemirror_mode": {
    "name": "ipython",
    "version": 3
   },
   "file_extension": ".py",
   "mimetype": "text/x-python",
   "name": "python",
   "nbconvert_exporter": "python",
   "pygments_lexer": "ipython3",
   "version": "3.10.14"
  }
 },
 "nbformat": 4,
 "nbformat_minor": 5
}