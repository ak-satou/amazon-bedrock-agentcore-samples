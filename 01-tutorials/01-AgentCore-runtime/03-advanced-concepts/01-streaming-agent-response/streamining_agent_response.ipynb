{
 "cells": [
  {
   "cell_type": "markdown",
   "id": "52dc9b17-1182-44b3-bebf-ae2f508675d3",
   "metadata": {},
   "source": "# Amazon Bedrock AgentCore Runtime での Strands Agents を使用したストリーミングレスポンス\n\n## 概要\n\nこのチュートリアルでは、Amazon Bedrock AgentCore Runtime を使用してストリーミングレスポンスを実装する方法を学習します。この例では、利用可能になった部分的な結果をストリーミングする方法を実証し、大量のコンテンツを生成する操作や重要な処理時間を要する操作に対してより応答性の高いユーザー体験を提供します。\n\n### チュートリアル詳細\n\n|項目| 詳細|\n|:--------------------|-|:---------------------------------------------------------------------------|\n| チュートリアル タイプ | ストリーミング機能付き対話型|\n| エージェント タイプ  | シングル         |\n| エージェントフレームワーク | Strands Agents |\n| LLM モデル          | Anthropic Claude Sonnet 3.7 |\n| チュートリアル コンポーネント | AgentCore Runtime、Strands Agent、Amazon Bedrockモデルでのストリーミングレスポンス |\n| チュートリアル領域   | 横断的                                                                   |\n| サンプルの複雑さ      | 簡単                                                                     |\n| 使用 SDK            | Amazon BedrockAgentCore Python SDK and boto3|\n\n### チュートリアル アーキテクチャ\n\nこのチュートリアルでは、ストリーミングエージェントをAgentCore runtimeにデプロイする方法について説明します。\n\nデモンストレーション目的として、ストリーミング機能を備えたAmazon BedrockモデルでStrands Agentを使用します。\n\nこの例では、2つのツール（`get_weather` と `get_time`）を持つシンプルなエージェントを使用しますが、ストリーミングレスポンス機能を追加します。\n    \n<div style=\"text-align:left\">\n    <img src=\"images/architecture_runtime.png\" width=\"60%\"/>\n</div>\n\n### チュートリアルの主な機能\n\n* Amazon Bedrock AgentCore Runtime でのエージェントからのストリーミングレスポンス\n* リアルタイムでの部分的な結果の配信\n* ストリーミング機能を持つ Amazon Bedrock モデルの使用\n* 非同期ストリーミングサポートを持つ Strands Agents の使用"
  },
  {
   "cell_type": "markdown",
   "id": "3a676f58ecf52b42",
   "metadata": {},
   "source": "## 前提条件\n\nこのチュートリアルを実行するには、以下が必要です：\n* Python 3.10+\n* AWS 認証情報\n* Amazon Bedrock AgentCore SDK\n* Strands Agents\n* 実行中の Docker"
  },
  {
   "cell_type": "code",
   "execution_count": null,
   "id": "initial_id",
   "metadata": {
    "jupyter": {
     "is_executing": true
    }
   },
   "outputs": [],
   "source": [
    "!pip install --force-reinstall -U -r requirements.txt --quiet"
   ]
  },
  {
   "cell_type": "markdown",
   "id": "932110e6-fca6-47b6-b7c5-c4714a866a80",
   "metadata": {},
   "source": "## AgentCore Runtime でのデプロイ用ストリーミングエージェントの準備\n\n次に、ストリーミングエージェントを AgentCore Runtime にデプロイしましょう。ストリーミング機能は、エントリーポイント関数で非同期ジェネレーターやyield文を使用する際に、AgentCore SDKによって自動的に処理されます。\n\nストリーミング実装の要点：\n* エントリーポイント関数には `async def` を使用\n* 利用可能になったチャンクをストリーミングするには `yield` を使用\n* AgentCore SDK は自動的に Server-Sent Events（SSE）形式を処理\n* クライアントは Content-Type: text/event-stream レスポンスを受信\n\n### Amazon Bedrockモデルとストリーミング機能を持つ Strands Agents\nAmazon Bedrockモデルを使用したStrands Agentのストリーミング実装を見てみましょう。"
  },
  {
   "cell_type": "code",
   "execution_count": null,
   "id": "3b845b32-a03e-45c2-a2f0-2afba8069f47",
   "metadata": {},
   "outputs": [],
   "source": [
    "%%writefile strands_claude_streaming.py\n",
    "from strands import Agent, tool\n",
    "from strands_tools import calculator # Import the calculator tool\n",
    "import argparse\n",
    "import json\n",
    "from bedrock_agentcore.runtime import BedrockAgentCoreApp\n",
    "from strands.models import BedrockModel\n",
    "import asyncio\n",
    "from datetime import datetime\n",
    "\n",
    "app = BedrockAgentCoreApp()\n",
    "\n",
    "# Create a custom tool \n",
    "@tool\n",
    "def weather():\n",
    "    \"\"\" Get weather \"\"\" # Dummy implementation\n",
    "    return \"sunny\"\n",
    "\n",
    "@tool\n",
    "def get_time():\n",
    "    \"\"\" Get current time \"\"\"\n",
    "    return datetime.now().strftime(\"%Y-%m-%d %H:%M:%S\")\n",
    "\n",
    "model_id = \"us.anthropic.claude-3-7-sonnet-20250219-v1:0\"\n",
    "model = BedrockModel(\n",
    "    model_id=model_id,\n",
    ")\n",
    "agent = Agent(\n",
    "    model=model,\n",
    "    tools=[\n",
    "        calculator, weather, get_time\n",
    "    ],\n",
    "    system_prompt=\"\"\"You're a helpful assistant. You can do simple math calculations, \n",
    "    tell the weather, and provide the current time.\"\"\"\n",
    ")\n",
    "\n",
    "@app.entrypoint\n",
    "async def strands_agent_bedrock_streaming(payload):\n",
    "    \"\"\"\n",
    "    Invoke the agent with streaming capabilities\n",
    "    This function demonstrates how to implement streaming responses\n",
    "    with AgentCore Runtime using async generators\n",
    "    \"\"\"\n",
    "    user_input = payload.get(\"prompt\")\n",
    "    print(\"User input:\", user_input)\n",
    "    \n",
    "    try:\n",
    "        # Stream each chunk as it becomes available\n",
    "        async for event in agent.stream_async(user_input):\n",
    "            if \"data\" in event:\n",
    "                yield event[\"data\"]\n",
    "            \n",
    "    except Exception as e:\n",
    "        # Handle errors gracefully in streaming context\n",
    "        error_response = {\"error\": str(e), \"type\": \"stream_error\"}\n",
    "        print(f\"Streaming error: {error_response}\")\n",
    "        yield error_response\n",
    "\n",
    "if __name__ == \"__main__\":\n",
    "    app.run()"
   ]
  },
  {
   "cell_type": "markdown",
   "id": "c64db7b5-0f1b-475f-9bf2-467b4449d46a",
   "metadata": {},
   "source": "## AgentCore Runtime でのストリーミングの理解\n\nAgentCore Runtime でストリーミングを使用する場合、いくつかのことが自動的に実行されます：\n\n### Server-Sent Events（SSE）形式\n* AgentCore SDK は、yielded データを自動的に SSE 形式に変換します\n* 各 yield は SSE ストリーム内の `data: ` イベントになります\n* Content-Type は自動的に `text/event-stream` に設定されます\n\n### クライアント処理\n* クライアントはエージェントが要求を処理する際にリアルタイムで更新を受信します\n* これにより、プログレッシブレスポンス表示とより良いユーザー体験が可能になります\n* クライアントは完全なレスポンスが準備される前に、部分的な結果を処理できます\n\n### エラー処理\n* ストリーミングレスポンスには適切なエラー処理を含める必要があります\n* エラーはストリームの一部として yield することができます\n* ストリームは、関数が完了するか未処理の例外が発生した場合に終了します"
  },
  {
   "cell_type": "markdown",
   "id": "6820ca8f-a8a8-4f34-b4ef-b6dad3776261",
   "metadata": {},
   "source": "## ストリーミングエージェントの AgentCore Runtime へのデプロイ\n\n`CreateAgentRuntime` オペレーションは包括的な設定オプションをサポートし、コンテナイメージ、環境変数、暗号化設定を指定できます。また、プロトコル設定（HTTP、MCP）と認証メカニズムを構成して、クライアントがエージェントとどのように通信するかを制御することもできます。\n\n**注意:** オペレーションのベストプラクティスは、CI/CDパイプラインとIaCを使用してコードをコンテナとしてパッケージ化し、ECRにプッシュすることです。\n\nこのチュートリアルでは、Amazon Bedrock AgentCode Python SDK を使用して、アーティファクトを簡単にパッケージ化し、AgentCore runtime にデプロイします。"
  },
  {
   "cell_type": "markdown",
   "id": "8855aceb-b79f-4aaa-b16f-8577c059816a",
   "metadata": {},
   "source": "### AgentCore Runtime デプロイメントの設定\n\n次に、スターターツールキットを使用して、エントリーポイント、先ほど作成した実行ロール、および requirements ファイルでAgentCore Runtimeデプロイメントを設定します。また、起動時にAmazon ECRリポジトリを自動作成するようにスターターキットを設定します。\n\n設定ステップ中に、アプリケーションコードに基づいてdockerファイルが生成されます\n\n<div style=\"text-align:left\">\n    <img src=\"images/configure.png\" width=\"60%\"/>\n</div>"
  },
  {
   "cell_type": "code",
   "execution_count": null,
   "id": "2e79eba2-ca59-463f-9ebf-56e362d7ae66",
   "metadata": {},
   "outputs": [],
   "source": [
    "from bedrock_agentcore_starter_toolkit import Runtime\n",
    "from boto3.session import Session\n",
    "boto_session = Session()\n",
    "region = boto_session.region_name\n",
    "region\n",
    "\n",
    "agentcore_runtime = Runtime()\n",
    "\n",
    "response = agentcore_runtime.configure(\n",
    "    entrypoint=\"strands_claude_streaming.py\",\n",
    "    auto_create_execution_role=True,\n",
    "    auto_create_ecr=True,\n",
    "    requirements_file=\"requirements.txt\",\n",
    "    region=region,\n",
    "    agent_name=\"strands_claude_streaming\"\n",
    ")\n",
    "response"
   ]
  },
  {
   "cell_type": "markdown",
   "id": "9e1b84cc-798e-472c-ac0b-2c315f4b704d",
   "metadata": {},
   "source": "### ストリーミングエージェントの AgentCore Runtime への起動\n\ndockerファイルができたので、ストリーミングエージェントをAgentCore Runtimeに起動しましょう。これによりAmazon ECRリポジトリとAgentCore Runtimeが作成されます\n\n<div style=\"text-align:left\">\n    <img src=\"images/launch.png\" width=\"85%\"/>\n</div>"
  },
  {
   "cell_type": "code",
   "execution_count": null,
   "id": "17a32ab8-7701-4900-8055-e24364bdf35c",
   "metadata": {},
   "outputs": [],
   "source": [
    "launch_result = agentcore_runtime.launch()"
   ]
  },
  {
   "cell_type": "markdown",
   "id": "a0ae9c09-09db-4a76-871a-92eacd96b9c3",
   "metadata": {},
   "source": "### AgentCore Runtime ステータスの確認\nAgentCore Runtime をデプロイしたので、そのデプロイメントステータスを確認しましょう"
  },
  {
   "cell_type": "code",
   "execution_count": null,
   "id": "afa6ac09-9adb-4846-9fc1-4d12aeb74853",
   "metadata": {},
   "outputs": [],
   "source": [
    "import time\n",
    "\n",
    "status_response = agentcore_runtime.status()\n",
    "status = status_response.endpoint['status']\n",
    "end_status = ['READY', 'CREATE_FAILED', 'DELETE_FAILED', 'UPDATE_FAILED']\n",
    "while status not in end_status:\n",
    "    time.sleep(10)\n",
    "    status_response = agentcore_runtime.status()\n",
    "    status = status_response.endpoint['status']\n",
    "    print(status)\n",
    "status"
   ]
  },
  {
   "cell_type": "markdown",
   "id": "b7f89c56-918a-4cab-beaa-c7ac43a2ba29",
   "metadata": {},
   "source": "### ストリーミング機能付き AgentCore Runtime の呼び出し\n\n最後に、ペイロードでAgentCore Runtimeを呼び出し、ストリーミングレスポンスを受信することができます\n\n<div style=\"text-align:left\">\n    <img src=\"images/invoke.png\" width=\"85%\"/>\n</div>"
  },
  {
   "cell_type": "code",
   "execution_count": null,
   "id": "3d909e42-e1a0-407f-84c2-3d16cc889cd3",
   "metadata": {
    "scrolled": true
   },
   "outputs": [],
   "source": [
    "invoke_response = agentcore_runtime.invoke({\n",
    "    \"prompt\": \n",
    "    \"what the weather is like?\"\n",
    "})\n",
    "invoke_response"
   ]
  },
  {
   "cell_type": "markdown",
   "id": "2c1d2bce-be41-478c-8bed-b4037c385795",
   "metadata": {},
   "source": "### ストリーミング用 boto3 での AgentCore Runtime の呼び出し\n\nAgentCore Runtime が作成されたので、任意の AWS SDK で呼び出すことができます。ストリーミングレスポンスの場合、Server-Sent Events 形式を処理する必要があります。"
  },
  {
   "cell_type": "code",
   "execution_count": null,
   "id": "7f84e68d-6c04-41b9-bf5b-60edc3fa0985",
   "metadata": {
    "scrolled": true
   },
   "outputs": [],
   "source": [
    "import boto3\n",
    "import json\n",
    "from IPython.display import Markdown, display\n",
    "\n",
    "agent_arn = launch_result.agent_arn\n",
    "agentcore_client = boto3.client(\n",
    "    'bedrock-agentcore',\n",
    "    region_name=region\n",
    ")\n",
    "\n",
    "# For streaming responses, we need to handle the EventStream\n",
    "boto3_response = agentcore_client.invoke_agent_runtime(\n",
    "    agentRuntimeArn=agent_arn,\n",
    "    qualifier=\"DEFAULT\",\n",
    "    payload=json.dumps({\"prompt\": \"How much is 2+1\"})\n",
    ")\n",
    "\n",
    "# Check if the response is streaming\n",
    "if \"text/event-stream\" in boto3_response.get(\"contentType\", \"\"):\n",
    "    print(\"Processing streaming response with boto3:\")\n",
    "    content = []\n",
    "    for line in boto3_response[\"response\"].iter_lines(chunk_size=1):\n",
    "        if line:\n",
    "            line = line.decode(\"utf-8\")\n",
    "            if line.startswith(\"data: \"):\n",
    "                data = line[6:].replace('\"', '')  # Remove \"data: \" prefix\n",
    "                print(f\"Received streaming chunk: {data}\")\n",
    "                content.append(data.replace('\"', ''))\n",
    "    \n",
    "    # Display the complete streamed response\n",
    "    full_response = \" \".join(content)\n",
    "    display(Markdown(full_response))\n",
    "else:\n",
    "    # Handle non-streaming response\n",
    "    try:\n",
    "        events = []\n",
    "        for event in boto3_response.get(\"response\", []):\n",
    "            events.append(event)\n",
    "    except Exception as e:\n",
    "        events = [f\"Error reading EventStream: {e}\"]\n",
    "    \n",
    "    if events:\n",
    "        try:\n",
    "            response_data = json.loads(events[0].decode(\"utf-8\"))\n",
    "            display(Markdown(response_data))\n",
    "        except:\n",
    "            print(f\"Raw response: {events[0]}\")"
   ]
  },
  {
   "cell_type": "markdown",
   "id": "streaming_benefits",
   "metadata": {},
   "source": "## ストリーミングレスポンスの利点\n\nストリーミングレスポンスには、いくつかの重要な利点があります：\n\n### ユーザー体験\n* **即座のフィードバック**: 利用可能になった部分的な結果をユーザーがすぐに確認\n* **パフォーマンス感の向上**: 総時間が同じでも、レスポンスがより高速に感じられる\n* **プログレッシブ表示**: 長いレスポンスを段階的に表示可能\n\n### 技術的利点\n* **メモリ効率**: すべてをメモリに読み込むことなく、大きなレスポンスを処理\n* **タイムアウト防止**: 長時間実行される操作でのタイムアウトを回避\n* **リアルタイム処理**: 利用可能になったリアルタイムデータの処理\n\n### 使用例\n* **コンテンツ生成**: 長文の記述、レポート、ドキュメント\n* **データ分析**: 複雑な計算からの段階的な結果\n* **マルチステップワークフロー**: 複雑なエージェント推論を通じての進捗表示\n* **リアルタイム監視**: 監視エージェントからのライブ更新"
  },
  {
   "cell_type": "markdown",
   "id": "7d3fdfe404469632",
   "metadata": {},
   "source": "## クリーンアップ（オプション）\n\n作成された AgentCore Runtime をクリーンアップしましょう"
  },
  {
   "cell_type": "code",
   "execution_count": null,
   "id": "7c243e86-a214-483c-aef1-d5243f28ca9e",
   "metadata": {},
   "outputs": [],
   "source": [
    "launch_result.ecr_uri, launch_result.agent_id, launch_result.ecr_uri.split('/')[1]"
   ]
  },
  {
   "cell_type": "code",
   "execution_count": null,
   "id": "76a6cf1416830a54",
   "metadata": {},
   "outputs": [],
   "source": [
    "agentcore_control_client = boto3.client(\n",
    "    'bedrock-agentcore-control',\n",
    "    region_name=region\n",
    ")\n",
    "ecr_client = boto3.client(\n",
    "    'ecr',\n",
    "    region_name=region\n",
    ")\n",
    "\n",
    "runtime_delete_response = agentcore_control_client.delete_agent_runtime(\n",
    "    agentRuntimeId=launch_result.agent_id,\n",
    ")\n",
    "\n",
    "response = ecr_client.delete_repository(\n",
    "    repositoryName=launch_result.ecr_uri.split('/')[1],\n",
    "    force=True\n",
    ")"
   ]
  },
  {
   "cell_type": "markdown",
   "id": "b118ad38-feeb-4d1d-9d57-e5c845becc56",
   "metadata": {},
   "source": "# おめでとうございます！\n\nAmazon Bedrock AgentCore Runtime を使用したストリーミングエージェントの実装とデプロイに成功しました！\n\n## 学んだこと：\n* 非同期ジェネレーターを使用したストリーミングレスポンスの実装方法\n* AgentCore Runtime が自動的に SSE 形式を処理する方法\n* クライアント側でのストリーミングレスポンスの処理方法\n* ユーザー体験とパフォーマンスにおけるストリーミングの利点\n\n## 次のステップ：\n* 使用事例に合わせたさまざまなストリーミングパターンの実験\n* 複雑なマルチステップワークフロー用のカスタムストリーミングロジックの実装\n* ストリーミングと他の AgentCore 機能（Memory や Gateway など）の組み合わせの探索\n* より良い UX のためのクライアント側ストリーミング視覚化の実装の検討"
  }
 ],
 "metadata": {
  "kernelspec": {
   "display_name": "Python 3 (ipykernel)",
   "language": "python",
   "name": "python3"
  },
  "language_info": {
   "codemirror_mode": {
    "name": "ipython",
    "version": 3
   },
   "file_extension": ".py",
   "mimetype": "text/x-python",
   "name": "python",
   "nbconvert_exporter": "python",
   "pygments_lexer": "ipython3",
   "version": "3.12.9"
  }
 },
 "nbformat": 4,
 "nbformat_minor": 5
}