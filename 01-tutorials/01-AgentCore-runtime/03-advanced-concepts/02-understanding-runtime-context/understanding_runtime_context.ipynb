{
 "cells": [
  {
   "cell_type": "markdown",
   "id": "52dc9b17-1182-44b3-bebf-ae2f508675d3",
   "metadata": {},
   "source": "# AgentCore Runtime での Runtime Context とセッション管理の理解\n\n## 概要\n\nこのチュートリアルでは、Amazon Bedrock AgentCore Runtime でランタイムコンテキストとセッション管理を理解し、操作する方法を学習します。この例では、AgentCore Runtime がセッションを処理し、複数の呼び出しにわたってコンテキストを維持し、エージェントがコンテキストオブジェクトを通じてランタイム情報にアクセスする方法を実証します。\n\nAmazon Bedrock AgentCore Runtime は各ユーザーインタラクションに対して分離されたセッションを提供し、エージェントが複数の呼び出しにわたってコンテキストと状態を維持できる一方で、異なるユーザー間の完全なセキュリティ分離を確保します。\n\n### チュートリアル詳細\n\n|項目| 詳細|\n|:--------------------|-|:---------------------------------------------------------------------------|\n| チュートリアル タイプ | コンテキストとセッション管理|\n| エージェント タイプ  | シングル         |\n| エージェントフレームワーク | Strands Agents |\n| LLM モデル          | Anthropic Claude Sonnet 3.7 |\n| チュートリアル コンポーネント | Runtime Context、セッション管理、AgentCore Runtime、Strands Agent、Amazon Bedrock Model |\n| チュートリアル領域   | 横断的                                                                   |\n| サンプルの複雑さ      | 中級                                                                     |\n| 使用 SDK            | Amazon BedrockAgentCore Python SDK and boto3|\n\n### チュートリアル アーキテクチャ\n\nこのチュートリアルでは、Amazon Bedrock AgentCore Runtime がセッションを管理し、エージェントにコンテキストを提供する方法を探索します。以下を実証します：\n\n1. **セッション継続性**: 同じセッション ID が複数の呼び出しにわたってコンテキストを維持する方法\n2. **コンテキストオブジェクト**: エージェントがコンテキストパラメーターを通じてランタイム情報にアクセスする方法\n3. **セッション分離**: 異なるセッション ID が完全に分離された環境を作成する方法\n4. **ペイロードの柔軟性**: ペイロードを通じてエージェントにカスタムデータを渡す方法\n\nデモンストレーション目的として、これらのセッション管理機能を実証する Strands Agent を使用します。\n\n    \n<div style=\"text-align:left\">\n    <img src=\"images/architecture_runtime.png\" width=\"60%\"/>\n</div>\n\n### チュートリアルの主な機能\n\n* **セッションベースのコンテキスト管理**: AgentCore Runtime がセッション内でコンテキストを維持する方法の理解\n* **Runtime セッションライフサイクル**: セッションの作成、維持、終了についての学習\n* **コンテキストオブジェクトアクセス**: コンテキストパラメーターを通じたセッション ID などのランタイム情報へのアクセス\n* **セッション分離**: 異なるセッションが完全な分離を提供する方法の実証\n* **ペイロード処理**: カスタムペイロード構造を通じた柔軟なデータ渡し\n* **呼び出し横断状態**: 同一セッション内での複数呼び出しにわたるエージェント状態の維持"
  },
  {
   "cell_type": "markdown",
   "id": "3a676f58ecf52b42",
   "metadata": {},
   "source": "## 前提条件\n\nこのチュートリアルを実行するには、以下が必要です：\n* Python 3.10+\n* AWS 認証情報\n* Amazon Bedrock AgentCore SDK\n* Strands Agents\n* 実行中の Docker\n\n## Amazon Bedrock AgentCore Runtime セッションの理解\n\nコードに入る前に、Amazon Bedrock AgentCore Runtime がセッションを管理する方法を理解することが重要です：\n\n### セッション分離とセキュリティ\n\nAgentCore Runtime は専用 microVM を通じて**完全なセッション分離**を提供します：\n\n- **専用リソース**: 各セッションは分離された CPU、メモリ、ファイルシステムを持つ独自の microVM で実行\n- **セキュリティ境界**: ユーザーセッション間の完全な分離により、データ汚染を防止\n- **決定論的クリーンアップ**: セッション完了後、microVM は終了され、メモリがサニタイズされる\n\n### セッションライフサイクル\n\nAgentCore Runtime のセッションは特定のライフサイクルに従います：\n\n1. **作成**: 一意の `runtimeSessionId` を持つ初回呼び出し時に新しいセッションを作成\n2. **アクティブ状態**: セッションがリクエストを処理し、コンテキストを維持\n3. **アイドル状態**: セッションがコンテキストを保持しながら次の呼び出しを待機\n4. **終了**: 以下の理由でセッションが終了：\n   - 非アクティブ（15分）\n   - 最大寿命（8時間）\n   - ヘルスチェック失敗\n\n### コンテキスト持続性\n\nセッション内で、AgentCore Runtime は以下を維持します：\n- **会話履歴**: 過去のインタラクションとレスポンス\n- **アプリケーション状態**: 実行中に作成された変数とオブジェクト\n- **ファイルシステム**: セッション中に作成または変更されたファイル\n- **環境変数**: カスタム設定と構成\n\n### セッション管理のベストプラクティス\n\n- **一意なセッション ID**: 各ユーザーまたは会話に対して一意のセッション ID を生成\n- **コンテキスト再利用**: 関連する呼び出しに同じセッション ID を使用してコンテキストを維持\n- **セッション境界**: 異なるユーザーまたは関連しない会話には異なるセッション ID を使用\n- **一時的性質**: 永続的なデータストレージをセッションに依存しない（持続性には AgentCore Memory を使用）"
  },
  {
   "cell_type": "code",
   "execution_count": null,
   "id": "initial_id",
   "metadata": {
    "jupyter": {
     "is_executing": true
    }
   },
   "outputs": [],
   "source": [
    "!pip install --force-reinstall -U -r requirements.txt --quiet"
   ]
  },
  {
   "cell_type": "markdown",
   "id": "932110e6-fca6-47b6-b7c5-c4714a866a80",
   "metadata": {},
   "source": "## AgentCore Runtime でのデプロイ用エージェントの準備\n\nセッション管理とコンテキスト処理を実証するために、エージェントを AgentCore Runtime にデプロイしましょう。このエージェントは以下の方法を実演します：\n\n1. **Runtime Context へのアクセス**: `context` パラメーターを使用してセッション情報を取得\n2. **カスタムペイロードの処理**: ペイロードを通じて渡される構造化データの処理\n3. **セッション状態の維持**: セッション内でのユーザーインタラクションの追跡\n4. **セッション境界の実証**: 異なるセッションが分離されている方法の表示\n\n### Context オブジェクトの理解\n\nAgentCore Runtime の `context` オブジェクトは、現在の実行環境に関する重要な情報を提供します：\n\n- **session_id**: 現在のランタイムセッション識別子\n- **Runtime Metadata**: ランタイム環境に関する情報\n- **実行詳細**: 現在の呼び出しに関するコンテキスト\n\n### コンテキスト処理機能付き Strands Agent\n\nセッション管理とコンテキスト処理を実証する実装を見てみましょう："
  },
  {
   "cell_type": "code",
   "execution_count": null,
   "id": "3b845b32-a03e-45c2-a2f0-2afba8069f47",
   "metadata": {},
   "outputs": [],
   "source": [
    "%%writefile strands_claude_context.py\n",
    "from strands import Agent, tool\n",
    "from strands_tools import calculator # Import the calculator tool\n",
    "import argparse\n",
    "import json\n",
    "from bedrock_agentcore.runtime import BedrockAgentCoreApp\n",
    "from strands.models import BedrockModel\n",
    "import asyncio\n",
    "from datetime import datetime\n",
    "\n",
    "app = BedrockAgentCoreApp()\n",
    "\n",
    "# Create a custom tool \n",
    "@tool\n",
    "def weather():\n",
    "    \"\"\" Get weather \"\"\" # Dummy implementation\n",
    "    return \"sunny\"\n",
    "\n",
    "@tool\n",
    "def get_time():\n",
    "    \"\"\" Get current time \"\"\"\n",
    "    return datetime.now().strftime(\"%Y-%m-%d %H:%M:%S\")\n",
    "\n",
    "model_id = \"us.anthropic.claude-3-7-sonnet-20250219-v1:0\"\n",
    "model = BedrockModel(\n",
    "    model_id=model_id,\n",
    ")\n",
    "agent = Agent(\n",
    "    model=model,\n",
    "    tools=[\n",
    "        calculator, weather, get_time\n",
    "    ],\n",
    "    system_prompt=\"\"\"\n",
    "    You're a helpful assistant. You can do simple math calculations, \n",
    "    tell the weather, and provide the current time.\n",
    "    Always start by acknowledging the user's name \n",
    "    \"\"\"\n",
    ")\n",
    "\n",
    "def get_user_name(user_id):\n",
    "    users = {\n",
    "        \"1\": \"Maira\",\n",
    "        \"2\": \"Mani\",\n",
    "        \"3\": \"Mark\",\n",
    "        \"4\": \"Ishan\",\n",
    "        \"5\": \"Dhawal\"\n",
    "    }\n",
    "    return users[user_id]\n",
    "    \n",
    "@app.entrypoint\n",
    "def strands_agent_bedrock_handling_context(payload, context):\n",
    "    \"\"\"\n",
    "    AgentCore Runtime entrypoint that demonstrates context handling and session management.\n",
    "    \n",
    "    Args:\n",
    "        payload: The input payload containing user data and request information\n",
    "        context: The runtime context object containing session and execution information\n",
    "    \n",
    "    Returns:\n",
    "        str: The agent's response incorporating context information\n",
    "    \"\"\"\n",
    "    user_input = payload.get(\"prompt\")\n",
    "    user_id = payload.get(\"user_id\")\n",
    "    user_name = get_user_name(user_id)\n",
    "    \n",
    "    # Access runtime context information\n",
    "    print(\"=== Runtime Context Information ===\")\n",
    "    print(\"User id:\", user_id)\n",
    "    print(\"User Name:\", user_name)\n",
    "    print(\"User input:\", user_input)\n",
    "    print(\"Runtime Session ID:\", context.session_id)\n",
    "    print(\"Context Object Type:\", type(context))\n",
    "    print(\"=== End Context Information ===\")\n",
    "    \n",
    "    # Create a personalized prompt that includes context information\n",
    "    prompt = f\"\"\"My name is {user_name}. Here is my request: {user_input}\n",
    "    \n",
    "    Additional context: This is session {context.session_id}. \n",
    "    Please acknowledge my name and provide assistance.\"\"\"\n",
    "    \n",
    "    response = agent(prompt)\n",
    "    return response.message['content'][0]['text']\n",
    "\n",
    "if __name__ == \"__main__\":\n",
    "    app.run()"
   ]
  },
  {
   "cell_type": "markdown",
   "id": "c64db7b5-0f1b-475f-9bf2-467b4449d46a",
   "metadata": {},
   "source": "## AgentCore Runtime でのセッション管理の理解\n\n上記のコードは、AgentCore Runtime がセッションを管理し、エージェントにコンテキストを提供する方法についていくつかの重要なコンセプトを実証します：\n\n### Context オブジェクト構造\n\nエントリーポイント関数の `context` パラメーターは、ランタイム情報へのアクセスを提供します：\n\n```python\n@app.entrypoint\ndef strands_agent_bedrock_handling_context(payload, context):\n    # セッション情報にアクセス\n    session_id = context.session_id\n    # エージェントロジックでコンテキスト情報を使用\n```\n\n### セッション継続性の利点\n\n単一セッション内で、AgentCore Runtime は以下を提供します：\n\n1. **永続的環境**: 変数と状態が呼び出しをまたいで持続\n2. **コンテキスト保存**: エージェントが以前のインタラクションを参照可能\n3. **リソース再利用**: 初期化されたモデルとツールが読み込まれたまま\n4. **パフォーマンス利点**: 後続の呼び出しでのコールドスタート時間の短縮\n\n### セッション分離保証\n\nAgentCore Runtime はセッション間の完全な分離を確保します：\n\n- **セキュリティ**: 各セッションは分離されたリソースを持つ独自の microVM で実行\n- **プライバシー**: 異なるユーザーセッション間でのデータ漏洩なし\n- **信頼性**: 1つのセッションの問題が他に影響しない\n- **クリーンアップ**: セッション終了後の完全なメモリサニタイゼーション\n\n### ペイロードの柔軟性\n\n`payload` パラメーターは柔軟なデータ受け渡しを可能にします：\n\n```python\n# ペイロード構造の例\npayload = {\n    \"prompt\": \"ユーザーの質問\",\n    \"user_id\": \"1\",\n    \"preferences\": {...},\n    \"context_data\": {...}\n}\n```\n\nこれにより、ランタイムが提供するセッションコンテキストを維持しながら、クライアントとエージェント間の豊富で構造化された通信が可能になります。"
  },
  {
   "cell_type": "markdown",
   "id": "8855aceb-b79f-4aaa-b16f-8577c059816a",
   "metadata": {},
   "source": "### AgentCore Runtime デプロイメントの設定\n\n次に、スターターツールキットを使用して、エントリーポイント、先ほど作成した実行ロール、および requirements ファイルで AgentCore Runtime デプロイメントを設定します。また、起動時に Amazon ECR リポジトリを自動作成するようにスターターキットを設定します。\n\n設定ステップ中に、アプリケーションコードに基づいて docker ファイルが生成されます\n\n<div style=\"text-align:left\">\n    <img src=\"images/configure.png\" width=\"60%\"/>\n</div>"
  },
  {
   "cell_type": "code",
   "execution_count": null,
   "id": "2e79eba2-ca59-463f-9ebf-56e362d7ae66",
   "metadata": {},
   "outputs": [],
   "source": [
    "from bedrock_agentcore_starter_toolkit import Runtime\n",
    "from boto3.session import Session\n",
    "boto_session = Session()\n",
    "region = boto_session.region_name\n",
    "region\n",
    "\n",
    "agentcore_runtime = Runtime()\n",
    "\n",
    "response = agentcore_runtime.configure(\n",
    "    entrypoint=\"strands_claude_context.py\",\n",
    "    auto_create_execution_role=True,\n",
    "    auto_create_ecr=True,\n",
    "    requirements_file=\"requirements.txt\",\n",
    "    region=region,\n",
    "    agent_name=\"strands_claude_context\"\n",
    ")"
   ]
  },
  {
   "cell_type": "markdown",
   "id": "9e1b84cc-798e-472c-ac0b-2c315f4b704d",
   "metadata": {},
   "source": "### コンテキスト対応エージェントの AgentCore Runtime への起動\n\ndocker ファイルができたので、コンテキスト対応エージェントを AgentCore Runtime に起動しましょう。これにより Amazon ECR リポジトリと AgentCore Runtime が作成されます。\n\nこのエージェントは、AgentCore Runtime がセッションを管理し、エージェントにコンテキスト情報を提供する方法を実証します。\n\n<div style=\"text-align:left\">\n    <img src=\"images/launch.png\" width=\"85%\"/>\n</div>"
  },
  {
   "cell_type": "code",
   "execution_count": null,
   "id": "17a32ab8-7701-4900-8055-e24364bdf35c",
   "metadata": {},
   "outputs": [],
   "source": [
    "launch_result = agentcore_runtime.launch()"
   ]
  },
  {
   "cell_type": "markdown",
   "id": "a0ae9c09-09db-4a76-871a-92eacd96b9c3",
   "metadata": {},
   "source": "### AgentCore Runtime ステータスの確認\nAgentCore Runtime をデプロイしたので、そのデプロイメントステータスを確認しましょう"
  },
  {
   "cell_type": "code",
   "execution_count": null,
   "id": "afa6ac09-9adb-4846-9fc1-4d12aeb74853",
   "metadata": {},
   "outputs": [],
   "source": [
    "import time\n",
    "\n",
    "status_response = agentcore_runtime.status()\n",
    "status = status_response.endpoint['status']\n",
    "end_status = ['READY', 'CREATE_FAILED', 'DELETE_FAILED', 'UPDATE_FAILED']\n",
    "while status not in end_status:\n",
    "    time.sleep(10)\n",
    "    status_response = agentcore_runtime.status()\n",
    "    status = status_response.endpoint['status']\n",
    "    print(status)\n",
    "status"
   ]
  },
  {
   "cell_type": "markdown",
   "id": "b7f89c56-918a-4cab-beaa-c7ac43a2ba29",
   "metadata": {},
   "source": "## セッション管理とコンテキスト処理の実証\n\n次に、さまざまなシナリオをテストして AgentCore Runtime の主要なセッション管理機能を実証しましょう：\n\n### シナリオ 1: セッション継続性\n同じセッション ID を複数の呼び出しで使用して、コンテキストがどのように維持されるかを示します。\n\n### シナリオ 2: セッション分離\n異なるセッション ID を使用して、セッション間の完全な分離を実証します。\n\n### シナリオ 3: コンテキスト情報アクセス\nエージェントがランタイムコンテキスト情報にどのようにアクセスできるかを示します。\n\n<div style=\"text-align:left\">\n    <img src=\"images/invoke.png\" width=\"85%\"/>\n</div>"
  },
  {
   "cell_type": "code",
   "execution_count": null,
   "id": "3d909e42-e1a0-407f-84c2-3d16cc889cd3",
   "metadata": {
    "scrolled": true
   },
   "outputs": [],
   "source": [
    "import uuid\n",
    "import json\n",
    "from IPython.display import Markdown, display\n",
    "\n",
    "# Create a session ID for demonstrating session continuity\n",
    "session_id = uuid.uuid4()\n",
    "print(f\"📋 Starting Session 1: {session_id}\")\n",
    "print(f\"👤 User: Maira (ID: 1)\")\n",
    "print(f\"❓ First question about weather\\n\")\n",
    "\n",
    "invoke_response = agentcore_runtime.invoke({\n",
    "    \"prompt\": \"How is the weather outside?\",\n",
    "    \"user_id\": \"1\"\n",
    "}, session_id=str(session_id))\n",
    "\n",
    "response_data = json.loads(invoke_response['response'][0])\n",
    "display(Markdown(response_data))"
   ]
  },
  {
   "cell_type": "code",
   "execution_count": null,
   "id": "086d49e5-426e-454e-89b3-eefacbe6a252",
   "metadata": {},
   "outputs": [],
   "source": [
    "# Continue with the same session ID to demonstrate session continuity\n",
    "print(f\"🔄 Continuing Session 1: {session_id}\")\n",
    "print(f\"👤 Same user: Maira (ID: 1)\")\n",
    "print(f\"❓ Follow-up question about math\\n\")\n",
    "\n",
    "invoke_response = agentcore_runtime.invoke({\n",
    "    \"prompt\": \"How much is 2X5?\",\n",
    "    \"user_id\": \"1\"\n",
    "}, session_id=str(session_id))\n",
    "\n",
    "response_data = json.loads(invoke_response['response'][0])\n",
    "display(Markdown(response_data))"
   ]
  },
  {
   "cell_type": "code",
   "execution_count": null,
   "id": "2a7899b9-68cd-487a-97be-80c7fb786bb1",
   "metadata": {},
   "outputs": [],
   "source": [
    "# Continue with the same session ID - notice how the agent remembers the previous calculation\n",
    "print(f\"🔄 Continuing Session 1: {session_id}\")\n",
    "print(f\"👤 Same user: Maira (ID: 1)\")\n",
    "print(f\"❓ Building on previous answer - demonstrates context continuity\\n\")\n",
    "\n",
    "invoke_response = agentcore_runtime.invoke({\n",
    "    \"prompt\": \"and that plus 34?\",\n",
    "    \"user_id\": \"1\"\n",
    "}, session_id=str(session_id))\n",
    "\n",
    "response_data = json.loads(invoke_response['response'][0])\n",
    "display(Markdown(response_data))"
   ]
  },
  {
   "cell_type": "code",
   "execution_count": null,
   "id": "7d4891d6-09b1-4111-b623-e3aa9d97a5c4",
   "metadata": {},
   "outputs": [],
   "source": [
    "# NEW SESSION - Demonstrate session isolation\n",
    "# Create a completely new session ID to show that context is lost\n",
    "new_session_id = uuid.uuid4()\n",
    "print(f\"🆕 Starting NEW Session 2: {new_session_id}\")\n",
    "print(f\"👤 Same user: Maira (ID: 1)\")\n",
    "print(f\"❓ Attempting to reference previous calculation - should fail due to session isolation\\n\")\n",
    "\n",
    "invoke_response = agentcore_runtime.invoke({\n",
    "    \"prompt\": \"And plus 10?\",\n",
    "    \"user_id\": \"1\"\n",
    "}, session_id=str(new_session_id))\n",
    "\n",
    "response_data = json.loads(invoke_response['response'][0])\n",
    "display(Markdown(response_data))"
   ]
  },
  {
   "cell_type": "code",
   "execution_count": null,
   "id": "89d50551-bbee-45a9-8c33-29350e3ed9b6",
   "metadata": {},
   "outputs": [],
   "source": [
    "# NEW SESSION AND USER - Demonstrate complete isolation\n",
    "different_user_session = uuid.uuid4()\n",
    "print(f\"🆕 Starting Session 3: {different_user_session}\")\n",
    "print(f\"👤 Different user: Mani (ID: 2)\")\n",
    "print(f\"❓ Same question as first user - demonstrates user isolation\\n\")\n",
    "\n",
    "invoke_response = agentcore_runtime.invoke({\n",
    "    \"prompt\": \"How is the weather?\",\n",
    "    \"user_id\": \"2\"\n",
    "}, session_id=str(different_user_session))\n",
    "\n",
    "response_data = json.loads(invoke_response['response'][0])\n",
    "display(Markdown(response_data))"
   ]
  },
  {
   "cell_type": "markdown",
   "id": "7d3fdfe404469632",
   "metadata": {},
   "source": "## セッション管理結果の理解\n\n上記の実証は、AgentCore Runtime のセッション管理のいくつかの重要な側面を実演しています：\n\n### 1. セッション継続性（セッション 1）\n- **最初の呼び出し**: エージェントが天気の質問に回答し、ユーザー名を確認\n- **2回目の呼び出し**: エージェントが計算を実行（2×5=10）\n- **3回目の呼び出し**: エージェントが以前の結果を参照（「それに34を足すと」= 44）\n\n**重要な学習**: エージェントは同じセッション内の複数の呼び出しにわたってコンテキストを維持し、以前のインタラクションの計算結果を記憶していました。\n\n### 2. セッション分離（セッション 2）\n- **新しいセッション ID**: 完全に新しいセッションを作成\n- **同じユーザー**: 同じユーザー ID だが異なるセッションを使用\n- **コンテキストの損失**: エージェントは以前の計算を参照できない\n\n**重要な学習**: 同じユーザーでも、新しいセッションは以前のコンテキストにアクセスできない完全に分離された環境を作成します。\n\n### 3. ユーザーとセッションの分離（セッション 3）\n- **異なるユーザー**: Maira の代わりに Mani\n- **新しいセッション**: 以前のセッションからの完全な分離\n- **新鮮なコンテキスト**: エージェントはクリーンな状態で開始\n\n**重要な学習**: 各セッションは完全な分離を提供し、異なるユーザーとインタラクション間のプライバシーとセキュリティを確保します。\n\n### 4. Context オブジェクトの使用\nすべての呼び出しを通じて、エージェントは：\n- `context.session_id` を通じてランタイムコンテキストにアクセス\n- カスタムペイロードデータ（`user_id`、`prompt`）を処理\n- ログと デバッグ情報を維持\n\n**重要な学習**: コンテキストオブジェクトは、エージェントが機能強化とデバッグのために使用できる貴重なランタイム情報を提供します。\n\n### 実証されたセッション管理のベストプラクティス\n\n1. **会話の継続性のために一貫したセッション ID を使用**\n2. **異なるユーザーまたは会話には一意のセッション ID を生成**\n3. **強化されたエージェント動作のためにコンテキスト情報を活用**\n4. **セッション境界を考慮した設計** - セッション間の持続性を前提としない\n5. **セッション変更や期限切れ時の適切なコンテキスト損失を処理**\n\n## クリーンアップ（オプション）\n\n作成された AgentCore Runtime をクリーンアップしましょう"
  },
  {
   "cell_type": "code",
   "execution_count": null,
   "id": "7c243e86-a214-483c-aef1-d5243f28ca9e",
   "metadata": {},
   "outputs": [],
   "source": [
    "launch_result.ecr_uri, launch_result.agent_id, launch_result.ecr_uri.split('/')[1]"
   ]
  },
  {
   "cell_type": "code",
   "execution_count": null,
   "id": "76a6cf1416830a54",
   "metadata": {},
   "outputs": [],
   "source": [
    "import boto3\n",
    "\n",
    "agentcore_control_client = boto3.client(\n",
    "    'bedrock-agentcore-control',\n",
    "    region_name=region\n",
    ")\n",
    "ecr_client = boto3.client(\n",
    "    'ecr',\n",
    "    region_name=region\n",
    ")\n",
    "\n",
    "runtime_delete_response = agentcore_control_client.delete_agent_runtime(\n",
    "    agentRuntimeId=launch_result.agent_id,\n",
    ")\n",
    "\n",
    "response = ecr_client.delete_repository(\n",
    "    repositoryName=launch_result.ecr_uri.split('/')[1],\n",
    "    force=True\n",
    ")"
   ]
  },
  {
   "cell_type": "markdown",
   "id": "b118ad38-feeb-4d1d-9d57-e5c845becc56",
   "metadata": {},
   "source": "# おめでとうございます！\n\nAmazon Bedrock AgentCore Runtime を使用したセッション管理とコンテキスト処理の実装とテストに成功しました！\n\n## 学んだこと：\n\n### セッション管理の基礎\n* **セッション継続性**: 同じセッション ID が複数の呼び出しにわたってコンテキストを維持する方法\n* **セッション分離**: 異なるセッション ID が完全に分離された環境を作成する方法\n* **コンテキスト保存**: エージェントが状態を維持し、以前のインタラクションを参照できる方法\n* **セキュリティ境界**: AgentCore Runtime がユーザー間の完全な分離を確保する方法\n\n### Runtime Context の処理\n* **Context オブジェクトアクセス**: `context` パラメーターを通じたランタイム情報へのアクセス方法\n* **セッション情報**: エージェントロジックでセッション ID を取得・使用する方法\n* **ペイロード処理**: カスタムペイロードを通じて渡される構造化データの処理方法\n* **Runtime Metadata**: エージェントが実行環境情報にアクセスする方法\n\n### AgentCore Runtime アーキテクチャ\n* **MicroVM 分離**: 各セッションが独自の分離された microVM で実行される仕組み\n* **リソース管理**: セッションごとの専用 CPU、メモリ、ファイルシステム\n* **セキュリティモデル**: セッション終了後の完全なメモリサニタイゼーション\n* **ライフサイクル管理**: セッション状態（アクティブ、アイドル、終了）とタイムアウト\n\n### ベストプラクティスの実装\n* **セッション ID 生成**: 異なる会話に対する一意識別子の作成\n* **コンテキスト活用**: 強化されたエージェント動作のためのランタイムコンテキストの利用\n* **状態管理**: 一時的対持続的状態の理解\n* **エラー処理**: コンテキスト損失とセッション境界の適切な処理"
  }
 ],
 "metadata": {
  "kernelspec": {
   "display_name": "Python 3 (ipykernel)",
   "language": "python",
   "name": "python3"
  },
  "language_info": {
   "codemirror_mode": {
    "name": "ipython",
    "version": 3
   },
   "file_extension": ".py",
   "mimetype": "text/x-python",
   "name": "python",
   "nbconvert_exporter": "python",
   "pygments_lexer": "ipython3",
   "version": "3.12.9"
  }
 },
 "nbformat": 4,
 "nbformat_minor": 5
}