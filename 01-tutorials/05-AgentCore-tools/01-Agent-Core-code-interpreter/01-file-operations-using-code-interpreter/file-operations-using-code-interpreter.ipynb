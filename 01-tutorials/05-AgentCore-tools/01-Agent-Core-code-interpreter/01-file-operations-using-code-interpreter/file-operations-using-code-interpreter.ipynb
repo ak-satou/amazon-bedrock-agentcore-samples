{
 "cells": [
  {
   "cell_type": "markdown",
   "metadata": {},
   "source": "## Amazon AgentCore Bedrock コードインタープリター チュートリアル\n\nこのチュートリアルでは、AgentCore Bedrock コードインタープリターを使用して以下を行う方法を説明します：\n1. サンドボックス環境のセットアップ\n2. データの読み込みと分析\n3. サンドボックス環境でのコード実行\n4. 結果の処理と取得\n\n## 前提条件\n- Bedrock AgentCore コードインタープリターにアクセス権限を持つAWSアカウント\n- コードインタープリターリソースの作成と管理に必要なIAM権限を持っている\n- 必要なPythonパッケージがインストールされている（boto3とbedrock-agentcoreを含む）\n- サンプルデータファイル（data.csv）\n- 分析スクリプト（stats.py）\n\n\n## IAM実行ロールには以下のIAMポリシーがアタッチされている必要があります"
  },
  {
   "metadata": {},
   "cell_type": "markdown",
   "source": [
    "~~~ {\n",
    "    \"Version\": \"2012-10-17\",\n",
    "    \"Statement\": [\n",
    "        {\n",
    "            \"Effect\": \"Allow\",\n",
    "            \"Action\": [\n",
    "                \"bedrock-agentcore:CreateCodeInterpreter\",\n",
    "                \"bedrock-agentcore:StartCodeInterpreterSession\",\n",
    "                \"bedrock-agentcore:InvokeCodeInterpreter\",\n",
    "                \"bedrock-agentcore:StopCodeInterpreterSession\",\n",
    "                \"bedrock-agentcore:DeleteCodeInterpreter\",\n",
    "                \"bedrock-agentcore:ListCodeInterpreters\",\n",
    "                \"bedrock-agentcore:GetCodeInterpreter\"\n",
    "            ],\n",
    "            \"Resource\": \"*\"\n",
    "        },\n",
    "        {\n",
    "            \"Effect\": \"Allow\",\n",
    "            \"Action\": [\n",
    "                \"logs:CreateLogGroup\",\n",
    "                \"logs:CreateLogStream\",\n",
    "                \"logs:PutLogEvents\"\n",
    "            ],\n",
    "            \"Resource\": \"arn:aws:logs:*:*:log-group:/aws/bedrock-agentcore/code-interpreter*\"\n",
    "        }\n",
    "    ]\n",
    "}\n",
    "\n"
   ]
  },
  {
   "metadata": {},
   "cell_type": "markdown",
   "source": "## 動作原理\n\nコード実行サンドボックスにより、エージェントは隔離された環境でコードインタープリター、シェル、ファイルシステムを使用してユーザークエリを安全に処理できます。大規模言語モデルがツール選択を支援した後、コードはこのセッション内で実行され、合成のためにユーザーまたはエージェントに返されます。\n\n![architecture local](code-interpreter.png)"
  },
  {
   "cell_type": "markdown",
   "metadata": {},
   "source": "## 1. 環境のセットアップ\n\nまず、必要なライブラリをインポートし、コードインタープリタークライアントを初期化しましょう。"
  },
  {
   "metadata": {},
   "cell_type": "code",
   "outputs": [],
   "execution_count": null,
   "source": "!pip install --upgrade -r requirements.txt"
  },
  {
   "cell_type": "code",
   "metadata": {
    "ExecuteTime": {
     "end_time": "2025-07-13T04:01:17.925083Z",
     "start_time": "2025-07-13T04:01:16.036433Z"
    }
   },
   "source": "from bedrock_agentcore.tools.code_interpreter_client import CodeInterpreter\nimport json\nfrom typing import Dict, Any, List\n\n# AWSリージョンを指定してコードインタープリターを初期化\ncode_client = CodeInterpreter('us-west-2')\ncode_client.start()",
   "outputs": [],
   "execution_count": null
  },
  {
   "cell_type": "markdown",
   "metadata": {},
   "source": "## 2. ローカルファイルの読み取り\n\nサンプルデータファイルと分析スクリプトの内容を読み取ります。"
  },
  {
   "cell_type": "code",
   "metadata": {
    "ExecuteTime": {
     "end_time": "2025-07-13T04:01:17.953880Z",
     "start_time": "2025-07-13T04:01:17.942684Z"
    }
   },
   "source": "def read_file(file_path: str) -> str:\n    \"\"\"エラーハンドリング付きでファイル内容を読み取るヘルパー関数\"\"\"\n    try:\n        with open(file_path, 'r', encoding='utf-8') as file:\n            return file.read()\n    except FileNotFoundError:\n        print(f\"エラー: ファイル '{file_path}' が見つかりませんでした。\")\n        return \"\"\n    except Exception as e:\n        print(f\"エラーが発生しました: {e}\")\n        return \"\"\n\n# 両方のファイルを読み取り\ndata_file_content = read_file(\"samples/data.csv\")\ncode_file_content = read_file(\"samples/stats.py\")",
   "outputs": [],
   "execution_count": null
  },
  {
   "cell_type": "markdown",
   "metadata": {},
   "source": "## 3. サンドボックス環境用ファイルの準備\n\nサンドボックス環境で作成したいファイルを定義する構造を作成します。"
  },
  {
   "cell_type": "code",
   "metadata": {
    "ExecuteTime": {
     "end_time": "2025-07-13T04:01:17.966573Z",
     "start_time": "2025-07-13T04:01:17.964099Z"
    }
   },
   "source": [
    "files_to_create = [\n",
    "    {\n",
    "        \"path\": \"data.csv\",\n",
    "        \"text\": data_file_content\n",
    "    },\n",
    "    {\n",
    "        \"path\": \"stats.py\",\n",
    "        \"text\": code_file_content\n",
    "    }\n",
    "]"
   ],
   "outputs": [],
   "execution_count": 23
  },
  {
   "cell_type": "markdown",
   "metadata": {},
   "source": [
    "## 4. Creating Helper Function for Tool Invocation\n",
    "\n",
    "This helper function will make it easier to call sandbox tools and handle their responses. Within an active session, you can execute code in supported languages (Python, JavaScript), access libraries based on your dependencies configuration, generate visualizations, and maintain state between executions."
   ]
  },
  {
   "cell_type": "code",
   "metadata": {
    "ExecuteTime": {
     "end_time": "2025-07-13T04:01:18.358299Z",
     "start_time": "2025-07-13T04:01:18.354409Z"
    }
   },
   "source": [
    "def call_tool(tool_name: str, arguments: Dict[str, Any]) -> Dict[str, Any]:\n",
    "    \"\"\"Helper function to invoke sandbox tools\n",
    "    \n",
    "    Args:\n",
    "        tool_name (str): Name of the tool to invoke\n",
    "        arguments (Dict[str, Any]): Arguments to pass to the tool\n",
    "        \n",
    "    Returns:\n",
    "        Dict[str, Any]: JSON formatted result\n",
    "    \"\"\"\n",
    "    response = code_client.invoke(tool_name, arguments)\n",
    "    for event in response[\"stream\"]:\n",
    "        return json.dumps(event[\"result\"])"
   ],
   "outputs": [],
   "execution_count": 24
  },
  {
   "cell_type": "markdown",
   "metadata": {},
   "source": [
    "## 5. Writing Files to Sandbox\n",
    "\n",
    "Now we'll write our files into the sandbox environment and verify they were created successfully."
   ]
  },
  {
   "cell_type": "code",
   "metadata": {
    "ExecuteTime": {
     "end_time": "2025-07-13T04:01:26.265552Z",
     "start_time": "2025-07-13T04:01:20.088758Z"
    }
   },
   "source": [
    "# Write files to sandbox\n",
    "writing_files = call_tool(\"writeFiles\", {\"content\": files_to_create})\n",
    "print(\"Writing files result:\")\n",
    "print(writing_files)\n",
    "\n",
    "# Verify files were created\n",
    "listing_files = call_tool(\"listFiles\", {\"path\": \"\"})\n",
    "print(\"\\nFiles in sandbox:\")\n",
    "print(listing_files)"
   ],
   "outputs": [
    {
     "name": "stdout",
     "output_type": "stream",
     "text": [
      "Writing files result:\n",
      "{\"content\": [{\"type\": \"text\", \"text\": \"Successfully wrote all 2 files\"}], \"isError\": false}\n",
      "\n",
      "Files in sandbox:\n",
      "{\"content\": [{\"type\": \"resource_link\", \"uri\": \"file:///log\", \"name\": \"log\", \"description\": \"Directory\"}, {\"type\": \"resource_link\", \"mimeType\": \"text/csv\", \"uri\": \"file:///data.csv\", \"name\": \"data.csv\", \"description\": \"File\"}, {\"type\": \"resource_link\", \"mimeType\": \"text/x-python\", \"uri\": \"file:///stats.py\", \"name\": \"stats.py\", \"description\": \"File\"}, {\"type\": \"resource_link\", \"uri\": \"file:///.ipython\", \"name\": \".ipython\", \"description\": \"Directory\"}], \"isError\": false}\n"
     ]
    }
   ],
   "execution_count": 25
  },
  {
   "cell_type": "markdown",
   "metadata": {},
   "source": [
    "## 6. Executing Analysis\n",
    "\n",
    "Now we'll execute our analysis script in the sandbox environment and process the results."
   ]
  },
  {
   "cell_type": "code",
   "metadata": {
    "ExecuteTime": {
     "end_time": "2025-07-13T04:01:35.818531Z",
     "start_time": "2025-07-13T04:01:34.446242Z"
    }
   },
   "source": [
    "import pprint\n",
    "\n",
    "# Execute the analysis script\n",
    "code_execute_result = call_tool(\"executeCode\", {\n",
    "    \"code\": files_to_create[1]['text'],\n",
    "    \"language\": \"python\",\n",
    "    \"clearContext\": True\n",
    "})\n",
    "\n",
    "# Parse and display results\n",
    "analysis_results = json.loads(code_execute_result)\n",
    "print(\"Full analysis results:\")\n",
    "pprint.pprint(analysis_results)\n",
    "\n",
    "print(\"\\nStandard output from analysis:\")\n",
    "print(analysis_results['structuredContent']['stdout'])"
   ],
   "outputs": [
    {
     "name": "stdout",
     "output_type": "stream",
     "text": [
      "Full analysis results:\n",
      "{'content': [{'text': 'Name   Place  Animal   Thing\\n'\n",
      "                      'count       299130  299130  299130  299130\\n'\n",
      "                      'unique        1722      55      50      51\\n'\n",
      "                      'top     Lisa White  Prague    Goat  Pencil\\n'\n",
      "                      'freq           222    5587    6141    6058',\n",
      "              'type': 'text'}],\n",
      " 'isError': False,\n",
      " 'structuredContent': {'executionTime': 0.7111423015594482,\n",
      "                       'exitCode': 0,\n",
      "                       'stderr': '',\n",
      "                       'stdout': 'Name   Place  Animal   Thing\\n'\n",
      "                                 'count       299130  299130  299130  299130\\n'\n",
      "                                 'unique        1722      55      50      51\\n'\n",
      "                                 'top     Lisa White  Prague    Goat  Pencil\\n'\n",
      "                                 'freq           222    5587    6141    6058'}}\n",
      "\n",
      "Standard output from analysis:\n",
      "Name   Place  Animal   Thing\n",
      "count       299130  299130  299130  299130\n",
      "unique        1722      55      50      51\n",
      "top     Lisa White  Prague    Goat  Pencil\n",
      "freq           222    5587    6141    6058\n"
     ]
    }
   ],
   "execution_count": 26
  },
  {
   "cell_type": "markdown",
   "metadata": {},
   "source": [
    "## 7. Cleanup\n",
    "\n",
    "Finally, we'll clean up by stopping the Code Interpreter session. Once finished using a session, the session should be shopped to release resources and avoid unnecessary charges."
   ]
  },
  {
   "cell_type": "code",
   "metadata": {
    "ExecuteTime": {
     "end_time": "2025-07-13T04:01:39.838014Z",
     "start_time": "2025-07-13T04:01:39.208092Z"
    }
   },
   "source": [
    "# Stop the Code Interpreter session\n",
    "code_client.stop()\n",
    "print(\"Code Interpreter session stopped successfully!\")"
   ],
   "outputs": [
    {
     "name": "stdout",
     "output_type": "stream",
     "text": [
      "Code Interpreter session stopped successfully!\n"
     ]
    }
   ],
   "execution_count": 27
  },
  {
   "cell_type": "markdown",
   "metadata": {},
   "source": "## まとめ\n\nこのチュートリアルでは以下を学習しました：\n- コードインタープリターセッションの初期化\n- 分析用ファイルの読み取りと準備\n- サンドボックス環境でのコード実行\n- 結果の処理と表示\n- リソースのクリーンアップ"
  }
 ],
 "metadata": {
  "kernelspec": {
   "display_name": "Python 3",
   "language": "python",
   "name": "python3"
  },
  "language_info": {
   "codemirror_mode": {
    "name": "ipython",
    "version": 3
   },
   "file_extension": ".py",
   "mimetype": "text/x-python",
   "name": "python",
   "nbconvert_exporter": "python",
   "pygments_lexer": "ipython3",
   "version": "3.8.0"
  }
 },
 "nbformat": 4,
 "nbformat_minor": 4
}