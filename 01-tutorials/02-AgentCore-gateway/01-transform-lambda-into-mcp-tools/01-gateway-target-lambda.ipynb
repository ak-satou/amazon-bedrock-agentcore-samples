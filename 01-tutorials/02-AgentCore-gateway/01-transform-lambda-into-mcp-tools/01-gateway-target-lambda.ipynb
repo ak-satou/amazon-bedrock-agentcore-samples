{
 "cells": [
  {
   "attachments": {},
   "cell_type": "markdown",
   "id": "4ba51a29-a566-4b5a-97f0-10e634567e40",
   "metadata": {
    "collapsed": true,
    "jupyter": {
     "outputs_hidden": true
    }
   },
   "source": "# AWS Lambda を MCP ツール化する\n## Bedrock AgentCore Gateway を使用して AWS Lambda 関数をセキュアな MCP ツールに変換\n\n## 概要\nBedrock AgentCore Gateway は、お客様が既存の AWS Lambda 関数を、インフラやホスティングを管理することなく完全管理された MCP サーバーに変換する方法を提供します。Gateway は、これらすべてのツールに対して統一された Model Context Protocol（MCP）インターface を提供します。Gateway は、受信リクエストとターゲットリソースへのアウトバウンド接続の両方に対してセキュアなアクセス制御を確保するため、デュアル認証モデルを採用しています。フレームワークは2つの主要コンポーネントで構成されています：ゲートウェイターゲットへのアクセスを試行するユーザーを検証・認可する Inbound Auth と、認証されたユーザーに代わってゲートウェイがバックエンドリソースに安全に接続できるようにする Outbound Auth です。Gateway は、アウトバウンド認証のために AWS Lambda 関数への呼び出しを認可するために IAM ロールを使用します。\n\n![How does it work](images/lambda-iam-gateway.png)\n\n### チュートリアル詳細\n\n\n| 項目                | 詳細                                                      |\n|:-------------------|:---------------------------------------------------------|\n| チュートリアル タイプ | インタラクティブ                                            |\n| AgentCore コンポーネント | AgentCore Gateway、AgentCore Identity                     |\n| エージェントフレームワーク | Strands Agents                                            |\n| Gateway Target タイプ | AWS Lambda                                                |\n| Inbound Auth IdP     | Amazon Cognito                                            |\n| Outbound Auth        | AWS IAM                                                   |\n| LLM モデル           | Anthropic Claude Sonnet 3.7、Amazon Nova Pro              |\n| チュートリアル コンポーネント | AgentCore Gateway の作成と呼び出し                         |\n| チュートリアル領域   | 横断的                                                    |\n| サンプルの複雑さ     | 簡単                                                      |\n| 使用 SDK            | boto3                                                     |\n\nチュートリアルの最初の部分では、いくつかの AmazonCore Gateway ターゲットを作成します\n\n### チュートリアル アーキテクチャ\nこのチュートリアルでは、AWS Lambda 関数で定義された操作を MCP ツールに変換し、Bedrock AgentCore Gateway でホストします。\nデモンストレーション目的として、Amazon Bedrock モデルを使用した Strands Agent を使用します。\nこの例では、get_order と update_order の2つのツールを持つ非常にシンプルなエージェントを使用します。"
  },
  {
   "cell_type": "markdown",
   "id": "5362e1ad-f027-4452-a8d9-0b861c0115c2",
   "metadata": {},
   "source": "## 前提条件\n\nこのチュートリアルを実行するには、以下が必要です：\n* Jupyter notebook（Python カーネル）\n* uv\n* AWS 認証情報\n* Amazon Cognito"
  },
  {
   "attachments": {},
   "cell_type": "markdown",
   "id": "e93da982-0d11-427c-9958-fff3c80b32f1",
   "metadata": {},
   "source": "## AgentCore Gateway 受信リクエスト用の認証設定\nAgentCore Gateway は、インバウンドとアウトバウンドの認証を通じて安全な接続を提供します。インバウンド認証では、AgentCore Gateway は呼び出し時に渡された OAuth トークンを分析して、ゲートウェイ内のツールへのアクセスを許可または拒否することを決定します。ツールが外部リソースへのアクセスを必要とする場合、AgentCore Gateway は API キー、IAM、または OAuth トークンを介したアウトバウンド認証を使用して、外部リソースへのアクセスを許可または拒否できます。\n\nインバウンド認証フロー中、エージェントまたは MCP クライアントが OAuth アクセストークン（ユーザーの IdP から生成）を追加して AgentCore Gateway の MCP ツールを呼び出します。AgentCore Gateway は OAuth アクセストークンを検証し、インバウンド認証を実行します。\n\nAgentCore Gateway で実行されているツールが外部リソースにアクセスする必要がある場合、OAuth は Gateway ターゲット用のリソース認証情報プロバイダーを使用してダウンストリームリソースの認証情報を取得します。AgentCore Gateway は、呼び出し元にダウンストリーム API へのアクセス権を与えるために、認証認証情報を渡します。"
  },
  {
   "cell_type": "code",
   "execution_count": null,
   "id": "e326677b-11b5-4488-b01b-573ad275a764",
   "metadata": {},
   "outputs": [],
   "source": [
    "!pip install --force-reinstall -U -r requirements.txt --quiet"
   ]
  },
  {
   "cell_type": "code",
   "execution_count": null,
   "id": "a4e6248d-b740-418b-ae0d-c0a9623e43e1",
   "metadata": {},
   "outputs": [],
   "source": [
    "# Set AWS credentials if not using Amazon SageMaker notebook\n",
    "import os\n",
    "os.environ['AWS_ACCESS_KEY_ID'] = '' # set the access key\n",
    "os.environ['AWS_SECRET_ACCESS_KEY'] = '' # set the secret \n",
    "os.environ['AWS_DEFAULT_REGION'] = os.environ.get('AWS_REGION', 'us-east-1') # set the AWS region"
   ]
  },
  {
   "cell_type": "code",
   "execution_count": null,
   "id": "cd5f3851-d0ca-484f-bb41-68f66ddbea44",
   "metadata": {},
   "outputs": [],
   "source": [
    "import os\n",
    "import sys\n",
    "\n",
    "# Get the directory of the current script\n",
    "if '__file__' in globals():\n",
    "    current_dir = os.path.dirname(os.path.abspath(__file__))\n",
    "else:\n",
    "    current_dir = os.getcwd()  # Fallback if __file__ is not defined (e.g., Jupyter)\n",
    "\n",
    "# Navigate to the directory containing utils.py (one level up)\n",
    "utils_dir = os.path.abspath(os.path.join(current_dir, '..'))\n",
    "\n",
    "# Add to sys.path\n",
    "sys.path.insert(0, utils_dir)\n",
    "\n",
    "# Now you can import utils\n",
    "import utils"
   ]
  },
  {
   "cell_type": "code",
   "execution_count": null,
   "id": "ddf8bfe9-8435-44cc-9e8a-ed8ece48f6a6",
   "metadata": {},
   "outputs": [],
   "source": [
    "#### Create a sample AWS Lambda function that you want to convert into MCP tools\n",
    "lambda_resp = utils.create_gateway_lambda(\"lambda_function_code.zip\")\n",
    "\n",
    "if lambda_resp is not None:\n",
    "    if lambda_resp['exit_code'] == 0:\n",
    "        print(\"Lambda function created with ARN: \", lambda_resp['lambda_function_arn'])\n",
    "    else:\n",
    "        print(\"Lambda function creation failed with message: \", lambda_resp['lambda_function_arn'])"
   ]
  },
  {
   "cell_type": "code",
   "execution_count": null,
   "id": "9ef17018-d2be-40e3-a892-55dd420297f9",
   "metadata": {},
   "outputs": [],
   "source": [
    "#### Create an IAM role for the Gateway to assume\n",
    "import utils\n",
    "agentcore_gateway_iam_role = utils.create_agentcore_gateway_role(\"sample-lambdagateway\")\n",
    "print(\"Agentcore gateway role ARN: \", agentcore_gateway_iam_role['Role']['Arn'])"
   ]
  },
  {
   "cell_type": "markdown",
   "id": "65120594-c3ec-4d51-810b-8d478851d8d2",
   "metadata": {},
   "source": "# Gateway へのインバウンド認証用 Amazon Cognito プールの作成"
  },
  {
   "cell_type": "code",
   "execution_count": null,
   "id": "0bbbc736-6f5e-4a60-a598-ead43a0c1f90",
   "metadata": {},
   "outputs": [],
   "source": [
    "# Creating Cognito User Pool \n",
    "import os\n",
    "import boto3\n",
    "import requests\n",
    "import time\n",
    "from botocore.exceptions import ClientError\n",
    "\n",
    "REGION = os.environ['AWS_DEFAULT_REGION']\n",
    "USER_POOL_NAME = \"sample-agentcore-gateway-pool\"\n",
    "RESOURCE_SERVER_ID = \"sample-agentcore-gateway-id\"\n",
    "RESOURCE_SERVER_NAME = \"sample-agentcore-gateway-name\"\n",
    "CLIENT_NAME = \"sample-agentcore-gateway-client\"\n",
    "SCOPES = [\n",
    "    {\"ScopeName\": \"gateway:read\", \"ScopeDescription\": \"Read access\"},\n",
    "    {\"ScopeName\": \"gateway:write\", \"ScopeDescription\": \"Write access\"}\n",
    "]\n",
    "scopeString = f\"{RESOURCE_SERVER_ID}/gateway:read {RESOURCE_SERVER_ID}/gateway:write\"\n",
    "\n",
    "cognito = boto3.client(\"cognito-idp\", region_name=REGION)\n",
    "\n",
    "print(\"Creating or retrieving Cognito resources...\")\n",
    "user_pool_id = utils.get_or_create_user_pool(cognito, USER_POOL_NAME)\n",
    "print(f\"User Pool ID: {user_pool_id}\")\n",
    "\n",
    "utils.get_or_create_resource_server(cognito, user_pool_id, RESOURCE_SERVER_ID, RESOURCE_SERVER_NAME, SCOPES)\n",
    "print(\"Resource server ensured.\")\n",
    "\n",
    "client_id, client_secret  = utils.get_or_create_m2m_client(cognito, user_pool_id, CLIENT_NAME, RESOURCE_SERVER_ID)\n",
    "print(f\"Client ID: {client_id}\")\n",
    "\n",
    "# Get discovery URL  \n",
    "cognito_discovery_url = f'https://cognito-idp.{REGION}.amazonaws.com/{user_pool_id}/.well-known/openid-configuration'\n",
    "print(cognito_discovery_url)"
   ]
  },
  {
   "cell_type": "markdown",
   "id": "f1a63450-7fb9-42fc-ab4f-3d86c27bb2f8",
   "metadata": {},
   "source": "# インバウンド認証用 Amazon Cognito オーソライザーを使用した Gateway の作成"
  },
  {
   "cell_type": "code",
   "execution_count": null,
   "id": "72f2cd57-7777-42d3-b6f3-c45ed0a935c4",
   "metadata": {},
   "outputs": [],
   "source": [
    "# CreateGateway with Cognito authorizer without CMK. Use the Cognito user pool created in the previous step\n",
    "gateway_client = boto3.client('bedrock-agentcore-control', region_name = os.environ['AWS_DEFAULT_REGION'])\n",
    "auth_config = {\n",
    "    \"customJWTAuthorizer\": { \n",
    "        \"allowedClients\": [client_id],  # Client MUST match with the ClientId configured in Cognito. Example: 7rfbikfsm51j2fpaggacgng84g\n",
    "        \"discoveryUrl\": cognito_discovery_url\n",
    "    }\n",
    "}\n",
    "create_response = gateway_client.create_gateway(name='TestGWforLambda',\n",
    "    roleArn = agentcore_gateway_iam_role['Role']['Arn'], # The IAM Role must have permissions to create/list/get/delete Gateway \n",
    "    protocolType='MCP',\n",
    "    authorizerType='CUSTOM_JWT',\n",
    "    authorizerConfiguration=auth_config, \n",
    "    description='AgentCore Gateway with AWS Lambda target type'\n",
    ")\n",
    "print(create_response)\n",
    "# Retrieve the GatewayID used for GatewayTarget creation\n",
    "gatewayID = create_response[\"gatewayId\"]\n",
    "gatewayURL = create_response[\"gatewayUrl\"]\n",
    "print(gatewayID)"
   ]
  },
  {
   "cell_type": "markdown",
   "id": "94dc57be-e50e-4997-a440-3bcf582d09bc",
   "metadata": {},
   "source": "# AWS Lambda ターゲットを作成して MCP ツールに変換"
  },
  {
   "cell_type": "code",
   "execution_count": null,
   "id": "8c1474da-cdd6-4dbd-84e7-3fdad018647d",
   "metadata": {},
   "outputs": [],
   "source": [
    "# Replace the AWS Lambda function ARN below\n",
    "lambda_target_config = {\n",
    "    \"mcp\": {\n",
    "        \"lambda\": {\n",
    "            \"lambdaArn\": lambda_resp['lambda_function_arn'], # Replace this with your AWS Lambda function ARN\n",
    "            \"toolSchema\": {\n",
    "                \"inlinePayload\": [\n",
    "                    {\n",
    "                        \"name\": \"get_order_tool\",\n",
    "                        \"description\": \"tool to get the order\",\n",
    "                        \"inputSchema\": {\n",
    "                            \"type\": \"object\",\n",
    "                            \"properties\": {\n",
    "                                \"orderId\": {\n",
    "                                    \"type\": \"string\"\n",
    "                                }\n",
    "                            },\n",
    "                            \"required\": [\"orderId\"]\n",
    "                        }\n",
    "                    },                    \n",
    "                    {\n",
    "                        \"name\": \"update_order_tool\",\n",
    "                        \"description\": \"tool to update the orderId\",\n",
    "                        \"inputSchema\": {\n",
    "                            \"type\": \"object\",\n",
    "                            \"properties\": {\n",
    "                                \"orderId\": {\n",
    "                                    \"type\": \"string\"\n",
    "                                }\n",
    "                            },\n",
    "                            \"required\": [\"orderId\"]\n",
    "                        }\n",
    "                    }\n",
    "                ]\n",
    "            }\n",
    "        }\n",
    "    }\n",
    "}\n",
    "\n",
    "credential_config = [ \n",
    "    {\n",
    "        \"credentialProviderType\" : \"GATEWAY_IAM_ROLE\"\n",
    "    }\n",
    "]\n",
    "targetname='LambdaUsingSDK'\n",
    "response = gateway_client.create_gateway_target(\n",
    "    gatewayIdentifier=gatewayID,\n",
    "    name=targetname,\n",
    "    description='Lambda Target using SDK',\n",
    "    targetConfiguration=lambda_target_config,\n",
    "    credentialProviderConfigurations=credential_config)"
   ]
  },
  {
   "cell_type": "markdown",
   "id": "d3ac6532-5299-4024-917d-bcd60caea6ed",
   "metadata": {},
   "source": "# Strands Agent からの Bedrock AgentCore Gateway の呼び出し\n\nStrands エージェントは、Model Context Protocol（MCP）仕様を実装する Bedrock AgentCore Gateway を通じて AWS ツールとシームレスに統合します。この統合により、AI エージェントと AWS サービス間のセキュアで標準化された通信が可能になります。\n\nその核心となるのは、Bedrock AgentCore Gateway が基本的な MCP API である ListTools と InvokeTools を公開するプロトコル準拠の Gateway として機能することです。これらの API により、任意の MCP 準拠クライアントまたは SDK が、セキュアで標準化された方法で利用可能なツールを発見し、操作することができます。Strands エージェントが AWS サービスにアクセスする必要がある場合、これらの MCP 標準化されたエンドポイントを使用して Gateway と通信します。\n\nGateway の実装は、[MCP Authorization 仕様](https://modelcontextprotocol.org/specification/draft/basic/authorization)に厳密に準拠し、堅牢なセキュリティとアクセス制御を確保します。これは、Strands エージェントによるすべてのツール呼び出しが認証ステップを通過し、強力な機能を有効にしながらセキュリティを維持することを意味します。\n\n例えば、Strands エージェントが MCP ツールにアクセスする必要がある場合、まず ListTools を呼び出して利用可能なツールを発見し、次に InvokeTools を使用して特定のアクションを実行します。Gateway は、必要なすべてのセキュリティ検証、プロトコル変換、およびサービス相互作用を処理し、プロセス全体をシームレスでセキュアにします。\n\nこのアーキテクチャアプローチは、MCP 仕様を実装する任意のクライアントまたは SDK が Gateway を通じて AWS サービスと相互作用できることを意味し、AI エージェント統合のための多用途で将来性のあるソリューションとなっています。\n\n![Strands agent calling Gateway](images/strands-lambda-gateway.png)"
  },
  {
   "cell_type": "markdown",
   "id": "873031fe-62b5-4196-91be-500c1f87dfd4",
   "metadata": {},
   "source": "# インバウンド認証用 Amazon Cognito からのアクセストークンの要求"
  },
  {
   "cell_type": "code",
   "execution_count": null,
   "id": "3ed1d1d6-e84c-4286-bf25-3ad6a49723b9",
   "metadata": {},
   "outputs": [],
   "source": [
    "print(\"Requesting the access token from Amazon Cognito authorizer...May fail for some time till the domain name propogation completes\")\n",
    "token_response = utils.get_token(user_pool_id, client_id, client_secret,scopeString,REGION)\n",
    "token = token_response[\"access_token\"]\n",
    "print(\"Token response:\", token)"
   ]
  },
  {
   "attachments": {},
   "cell_type": "markdown",
   "id": "6fd0379d-9576-43cb-aa9b-72b86c43b472",
   "metadata": {},
   "source": "# Bedrock AgentCore Gateway を使用した AWS Lambda の MCP ツールを呼び出す Strands エージェント"
  },
  {
   "cell_type": "code",
   "execution_count": null,
   "id": "be4b39c4-7387-4ce8-b728-f2347fbdaa36",
   "metadata": {},
   "outputs": [],
   "source": [
    "from strands.models import BedrockModel\n",
    "from mcp.client.streamable_http import streamablehttp_client \n",
    "from strands.tools.mcp.mcp_client import MCPClient\n",
    "from strands import Agent\n",
    "\n",
    "def create_streamable_http_transport():\n",
    "    return streamablehttp_client(gatewayURL,headers={\"Authorization\": f\"Bearer {token}\"})\n",
    "\n",
    "client = MCPClient(create_streamable_http_transport)\n",
    "\n",
    "## The IAM credentials configured in ~/.aws/credentials should have access to Bedrock model\n",
    "yourmodel = BedrockModel(\n",
    "    model_id=\"us.amazon.nova-pro-v1:0\",\n",
    "    temperature=0.7,\n",
    ")"
   ]
  },
  {
   "cell_type": "code",
   "execution_count": null,
   "id": "e64794e7-4e5f-4fc5-824a-61c901e356c4",
   "metadata": {},
   "outputs": [],
   "source": [
    "from strands import Agent\n",
    "import logging\n",
    "\n",
    "\n",
    "# Configure the root strands logger. Change it to DEBUG if you are debugging the issue.\n",
    "logging.getLogger(\"strands\").setLevel(logging.INFO)\n",
    "\n",
    "# Add a handler to see the logs\n",
    "logging.basicConfig(\n",
    "    format=\"%(levelname)s | %(name)s | %(message)s\", \n",
    "    handlers=[logging.StreamHandler()]\n",
    ")\n",
    "\n",
    "with client:\n",
    "    # Call the listTools \n",
    "    tools = client.list_tools_sync()\n",
    "    # Create an Agent with the model and tools\n",
    "    agent = Agent(model=yourmodel,tools=tools) ## you can replace with any model you like\n",
    "    print(f\"Tools loaded in the agent are {agent.tool_names}\")\n",
    "    # print(f\"Tools configuration in the agent are {agent.tool_config}\")\n",
    "    # Invoke the agent with the sample prompt. This will only invoke  MCP listTools and retrieve the list of tools the LLM has access to. The below does not actually call any tool.\n",
    "    agent(\"Hi , can you list all tools available to you\")\n",
    "    # Invoke the agent with sample prompt, invoke the tool and display the response\n",
    "    agent(\"Check the order status for order id 123 and show me the exact response from the tool\")\n",
    "    # Call the MCP tool explicitly. The MCP Tool name and arguments must match with your AWS Lambda function or the OpenAPI/Smithy API\n",
    "    result = client.call_tool_sync(\n",
    "    tool_use_id=\"get-order-id-123-call-1\", # You can replace this with unique identifier. \n",
    "    name=targetname+\"___get_order_tool\", # This is the tool name based on AWS Lambda target types. This will change based on the target name\n",
    "    arguments={\"orderId\": \"123\"}\n",
    "    )\n",
    "    # Print the MCP Tool response\n",
    "    print(f\"Tool Call result: {result['content'][0]['text']}\")\n"
   ]
  },
  {
   "cell_type": "markdown",
   "id": "73169486-2fa0-42b5-8a8f-d6bdcc532159",
   "metadata": {},
   "source": "**問題：下のセルを実行中に以下のエラーが発生する場合は、pydantic と pydantic-core のバージョンの非互換性を示しています。**\n\n```\nTypeError: model_schema() got an unexpected keyword argument 'generic_origin'\n```\n**解決方法：**\n\npydantic==2.7.2 と pydantic-core 2.27.2 の両方が互換性があることを確認する必要があります。完了後、カーネルを再起動してください。"
  },
  {
   "cell_type": "markdown",
   "id": "fa8dd91d-15a6-45b2-b539-bb3eaf0e0e08",
   "metadata": {},
   "source": "# クリーンアップ\n\nIAM ロール、IAM ポリシー、認証情報プロバイダー、AWS Lambda 関数、Cognito ユーザープール、S3 バケットなどの追加リソースも作成されており、クリーンアップの一環として手動で削除する必要があります。これは実行する例によって異なります。"
  },
  {
   "cell_type": "markdown",
   "id": "a22f158d-83b6-4d65-892f-9a208af3d742",
   "metadata": {},
   "source": "## Gateway の削除（オプション）"
  },
  {
   "cell_type": "code",
   "execution_count": null,
   "id": "c3edc5b6-e5f0-47b9-994f-378415bad50d",
   "metadata": {},
   "outputs": [],
   "source": [
    "import utils\n",
    "utils.delete_gateway(gateway_client,gatewayID)"
   ]
  }
 ],
 "metadata": {
  "kernelspec": {
   "display_name": "Python 3 (ipykernel)",
   "language": "python",
   "name": "python3"
  },
  "language_info": {
   "codemirror_mode": {
    "name": "ipython",
    "version": 3
   },
   "file_extension": ".py",
   "mimetype": "text/x-python",
   "name": "python",
   "nbconvert_exporter": "python",
   "pygments_lexer": "ipython3",
   "version": "3.12.9"
  }
 },
 "nbformat": 4,
 "nbformat_minor": 5
}