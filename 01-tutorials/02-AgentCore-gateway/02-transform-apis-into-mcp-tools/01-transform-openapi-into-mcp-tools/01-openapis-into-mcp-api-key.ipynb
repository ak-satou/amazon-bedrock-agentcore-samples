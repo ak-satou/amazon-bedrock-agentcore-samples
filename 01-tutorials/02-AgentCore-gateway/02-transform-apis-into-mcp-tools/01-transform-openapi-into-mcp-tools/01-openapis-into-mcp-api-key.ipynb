{
 "cells": [
  {
   "cell_type": "markdown",
   "id": "4ba51a29-a566-4b5a-97f0-10e634567e40",
   "metadata": {
    "collapsed": true,
    "jupyter": {
     "outputs_hidden": true
    }
   },
   "source": "# Bedrock AgentCore Gatewayを使用してOpenAPI APIをMCPツールに変換する\n\n## 概要\nお客様はJSON または YAML形式のOpenAPI仕様を持参し、Bedrock AgentCore Gatewayを使用してAPIをMCPツールに変換できます。ここでは、APIキーを使用してNASAのOpen APIを呼び出す火星天気エージェントの構築を実演します。\n\nGatewayワークフローでは、エージェントを外部ツールに接続するために以下のステップが含まれます：\n* **Gatewayのツールを作成** - REST API用のOpenAPI仕様などのスキーマを使用してツールを定義します。OpenAPI仕様はGateway作成のためにAmazon Bedrock AgentCoreによって解析されます。\n* **Gatewayエンドポイントを作成** - インバウンド認証を伴うMCPエントリーポイントとして機能するGatewayを作成します。\n* **Gatewayにターゲットを追加** - Gatewayが特定のツールへのリクエストをルーティングする方法を定義するOpenAPIターゲットを設定します。OpenAPIファイルに含まれるすべてのAPIがMCP互換ツールとなり、Gateway エンドポイントURL経由で利用できるようになります。各OpenAPI Gatewayターゲットのアウトバウンド認証を設定します。\n* **エージェントコードを更新** - エージェントをGatewayエンドポイントに接続し、統合されたMCPインターフェースを通じてすべての設定済みツールにアクセスします。\n\n![仕組み](images/openapi-gateway-apikey.png)\n\n### チュートリアル詳細\n\n\n| 情報                 | 詳細                                                      |\n|:---------------------|:----------------------------------------------------------|\n| チュートリアル形式   | インタラクティブ                                          |\n| AgentCoreコンポーネント | AgentCore Gateway, AgentCore Identity                     |\n| エージェントフレームワーク | Strands Agents                                            |\n| Gatewayターゲット形式  | OpenAPI                                                   |\n| エージェント         | 火星天気エージェント                                      |\n| インバウンド認証IdP  | Amazon Cognito                                            |\n| アウトバウンド認証   | APIキー                                                   |\n| LLMモデル            | Anthropic Claude Sonnet 3.7, Amazon Nova Pro              |\n| チュートリアルコンポーネント | AgentCore Gatewayの作成とAgentCore Gatewayの呼び出し |\n| チュートリアル分野   | 分野横断                                                  |\n| 例の複雑さ           | 簡単                                                      |\n| 使用SDK              | boto3                                                     |\n\nチュートリアルの最初の部分では、いくつかのAmazonCore Gatewayターゲットを作成します\n\n### チュートリアルアーキテクチャ\nこのチュートリアルでは、OpenAPI yaml/jsonファイルで定義された操作をMCPツールに変換し、Bedrock AgentCore Gatewayでホストします。\n実演目的で、火星の天気に関するクエリに答える火星天気エージェントを構築します。エージェントはNASAのOpen APIを使用します。ソリューションはAmazon BedrockモデルとStrands Agentを使用します。\nこの例では、火星天気用のgetInsightWeatherツールを持つ非常にシンプルなエージェントを使用します。"
  },
  {
   "cell_type": "markdown",
   "id": "5362e1ad-f027-4452-a8d9-0b861c0115c2",
   "metadata": {},
   "source": "## 前提条件\n\nこのチュートリアルを実行するには以下が必要です：\n* Jupyter notebook（Pythonカーネル）\n* uv\n* AWS認証情報\n* Amazon Cognito"
  },
  {
   "cell_type": "code",
   "execution_count": null,
   "id": "a17e1d70-9a76-42ce-b1ac-1c3a0bf4d12c",
   "metadata": {},
   "outputs": [],
   "source": [
    "!pip install --force-reinstall -U -r requirements.txt --quiet"
   ]
  },
  {
   "cell_type": "code",
   "execution_count": null,
   "id": "a4e6248d-b740-418b-ae0d-c0a9623e43e1",
   "metadata": {},
   "outputs": [],
   "source": "# Amazon SageMakerノートブックを使用しない場合はAWS認証情報を設定\nimport os\nos.environ['AWS_ACCESS_KEY_ID'] = ''\nos.environ['AWS_SECRET_ACCESS_KEY'] = ''\nos.environ['AWS_DEFAULT_REGION'] = os.environ.get('AWS_REGION', 'us-east-1')"
  },
  {
   "cell_type": "code",
   "execution_count": null,
   "id": "4ca94412-7337-4293-ab74-aa2e77507fd0",
   "metadata": {},
   "outputs": [],
   "source": "import os\nimport sys\n\n# 現在のスクリプトのディレクトリを取得\nif '__file__' in globals():\n    current_dir = os.path.dirname(os.path.abspath(__file__))\nelse:\n    current_dir = os.getcwd()  # __file__ が定義されていない場合のフォールバック (例: Jupyter)\n\n# utils.pyが含まれるディレクトリまで移動 (1レベル上)\nutils_dir = os.path.abspath(os.path.join(current_dir, '../..'))\n\n# sys.pathに追加\nsys.path.insert(0, utils_dir)\n\n# これでutilsをインポートできます\nimport utils"
  },
  {
   "cell_type": "code",
   "execution_count": null,
   "id": "22f4cb2b-14b0-4171-982a-19a1ed4e8ad2",
   "metadata": {},
   "outputs": [],
   "source": "#### Gatewayが引き受けるIAMロールを作成\nimport utils\n\nagentcore_gateway_iam_role = utils.create_agentcore_gateway_role(\"sample-lambdagateway\")\nprint(\"Agentcore gateway role ARN: \", agentcore_gateway_iam_role['Role']['Arn'])"
  },
  {
   "cell_type": "markdown",
   "id": "65120594-c3ec-4d51-810b-8d478851d8d2",
   "metadata": {},
   "source": "# Gatewayへのインバウンド認証用Amazon Cognitoプールを作成"
  },
  {
   "cell_type": "code",
   "execution_count": null,
   "id": "32c382f0-aefe-4756-8e06-fac3a7b96e1c",
   "metadata": {},
   "outputs": [],
   "source": "# Cognito User Poolの作成\nimport os\nimport boto3\nimport requests\nimport time\nfrom botocore.exceptions import ClientError\n\nREGION = os.environ['AWS_DEFAULT_REGION']\nUSER_POOL_NAME = \"sample-agentcore-gateway-pool\"\nRESOURCE_SERVER_ID = \"sample-agentcore-gateway-id\"\nRESOURCE_SERVER_NAME = \"sample-agentcore-gateway-name\"\nCLIENT_NAME = \"sample-agentcore-gateway-client\"\nSCOPES = [\n    {\"ScopeName\": \"gateway:read\", \"ScopeDescription\": \"Read access\"},\n    {\"ScopeName\": \"gateway:write\", \"ScopeDescription\": \"Write access\"}\n]\nscopeString = f\"{RESOURCE_SERVER_ID}/gateway:read {RESOURCE_SERVER_ID}/gateway:write\"\n\ncognito = boto3.client(\"cognito-idp\", region_name=REGION)\n\nprint(\"Cognitoリソースを作成または取得中...\")\nuser_pool_id = utils.get_or_create_user_pool(cognito, USER_POOL_NAME)\nprint(f\"User Pool ID: {user_pool_id}\")\n\nutils.get_or_create_resource_server(cognito, user_pool_id, RESOURCE_SERVER_ID, RESOURCE_SERVER_NAME, SCOPES)\nprint(\"リソースサーバが確保されました。\")\n\nclient_id, client_secret  = utils.get_or_create_m2m_client(cognito, user_pool_id, CLIENT_NAME, RESOURCE_SERVER_ID)\nprint(f\"Client ID: {client_id}\")\n\n# ディスカバリURLを取得\ncognito_discovery_url = f'https://cognito-idp.{REGION}.amazonaws.com/{user_pool_id}/.well-known/openid-configuration'\nprint(cognito_discovery_url)"
  },
  {
   "cell_type": "markdown",
   "id": "f1a63450-7fb9-42fc-ab4f-3d86c27bb2f8",
   "metadata": {},
   "source": "# Gatewayを作成"
  },
  {
   "cell_type": "code",
   "execution_count": null,
   "id": "72f2cd57-7777-42d3-b6f3-c45ed0a935c4",
   "metadata": {},
   "outputs": [],
   "source": "# CMKなしでCognito認証機能を持つGatewayを作成します。前のステップで作成したCognito User Poolを使用します\nimport boto3\ngateway_client = boto3.client('bedrock-agentcore-control', region_name = os.environ['AWS_DEFAULT_REGION'])\nauth_config = {\n    \"customJWTAuthorizer\": { \n        \"allowedClients\": [client_id],  # ClientはCognitoで設定されたClientIdと一致する必要があります。例: 7rfbikfsm51j2fpaggacgng84g\n        \"discoveryUrl\": cognito_discovery_url\n    }\n}\ncreate_response = gateway_client.create_gateway(name='DemoGWOpenAPIAPIKeyNasaOAI',\n    roleArn = agentcore_gateway_iam_role['Role']['Arn'], # IAMロールはGateway の作成/一覧/取得/削除権限を持つ必要があります\n    protocolType='MCP',\n    authorizerType='CUSTOM_JWT',\n    authorizerConfiguration=auth_config, \n    description='OpenAPI ターゲットを持つAgentCore Gateway'\n)\nprint(create_response)\n# GatewayTarget作成に使用するGatewayIDを取得\ngatewayID = create_response[\"gatewayId\"]\ngatewayURL = create_response[\"gatewayUrl\"]\nprint(gatewayID)"
  },
  {
   "cell_type": "markdown",
   "id": "1345c920-3921-40c7-9c00-110e8d02184b",
   "metadata": {},
   "source": "# Bedrock AgentCore GatewayによってNASA Open APIをMCPツールに変換"
  },
  {
   "cell_type": "markdown",
   "id": "4765ddea-a86d-492e-90f9-ffb14e1b3b74",
   "metadata": {},
   "source": "NasaのOpen APIから天気データを取得する火星天気エージェントを作成します。Nasa Insight API[こちら](https://api.nasa.gov/)に登録する必要があります。無料です！登録すると、APIキーがメールで送られてきます。OpenAPIターゲット作成のため認証情報プロバイダーを設定する際にAPIキーを使用してください。"
  },
  {
   "cell_type": "code",
   "execution_count": null,
   "id": "64caa620-02ec-424a-a8b9-eb00b39289bf",
   "metadata": {},
   "outputs": [],
   "source": "import boto3\nfrom pprint import pprint\nfrom botocore.config import Config\n\nacps = boto3.client(service_name=\"bedrock-agentcore-control\")\n\nresponse=acps.create_api_key_credential_provider(\n    name=\"NasaInsightAPIKey\",\n    apiKey=\"\", # api.nasa.govでサインアップしてAPIキーを取得してください。メールでAPIキーを受け取るまで2分かかります。\n)\n\npprint(response)\ncredentialProviderARN = response['credentialProviderArn']\npprint(f\"エグレス認証情報プロバイダーARN, {credentialProviderARN}\")"
  },
  {
   "cell_type": "markdown",
   "id": "510b092f-be1d-4b31-abb7-1fb8cab887ef",
   "metadata": {},
   "source": "# OpenAPIターゲットを作成"
  },
  {
   "cell_type": "markdown",
   "id": "c1cb1835-5aaf-471d-ac28-6f5fe78caf5a",
   "metadata": {},
   "source": "#### NASA Open API jsonファイルをS3にアップロード"
  },
  {
   "cell_type": "code",
   "execution_count": null,
   "id": "a105be4e-ae05-4981-a609-01d410f66023",
   "metadata": {},
   "outputs": [],
   "source": "# S3クライアントを作成\nsession = boto3.session.Session()\ns3_client = session.client('s3')\nsts_client = session.client('sts')\n\n# AWSアカウントIDとリージョンを取得\naccount_id = sts_client.get_caller_identity()[\"Account\"]\nregion = session.region_name\n# パラメータを定義\n# OpenAPI jsonファイルをアップロードするS3バケット\nbucket_name = f'agentcore-gateway-{account_id}-{region}'\nfile_path = 'openapi-specs/nasa_mars_insights_openapi.json'\nobject_key = 'nasa_mars_insights_openapi.json'\n# put_objectを使用してファイルをアップロードし、レスポンスを読み取り\ntry:\n    if region == \"us-east-1\":\n        s3bucket = s3_client.create_bucket(\n            Bucket=bucket_name\n        )\n    else:\n        s3bucket = s3_client.create_bucket(\n            Bucket=bucket_name,\n            CreateBucketConfiguration={\n                'LocationConstraint': region\n            }\n        )\n    with open(file_path, 'rb') as file_data:\n        response = s3_client.put_object(\n            Bucket=bucket_name,\n            Key=object_key,\n            Body=file_data\n        )\n\n    # アカウントIDとリージョンを含むアップロードされたオブジェクトのARNを構築\n    openapi_s3_uri = f's3://{bucket_name}/{object_key}'\n    print(f'アップロードされたオブジェクトのS3 URI: {openapi_s3_uri}')\nexcept Exception as e:\n    print(f'ファイルのアップロードエラー: {e}')"
  },
  {
   "cell_type": "markdown",
   "id": "715f371d-3118-4c7f-bb23-c90ab09e4284",
   "metadata": {},
   "source": "#### アウトバウンド認証を設定してGatewayターゲットを作成"
  },
  {
   "cell_type": "code",
   "execution_count": null,
   "id": "629945ac-d1c3-49ae-92f7-4b0e0ef6d2c8",
   "metadata": {},
   "outputs": [],
   "source": "# OpenAPI仕様ファイル用のS3 URI\nnasa_openapi_s3_target_config = {\n    \"mcp\": {\n          \"openApiSchema\": {\n              \"s3\": {\n                  \"uri\": openapi_s3_uri\n              }\n          }\n      }\n}\n\n# APIキー認証情報プロバイダー設定\napi_key_credential_config = [\n    {\n        \"credentialProviderType\" : \"API_KEY\", \n        \"credentialProvider\": {\n            \"apiKeyCredentialProvider\": {\n                    \"credentialParameterName\": \"api_key\", # これを各APIプロバイダーが期待するAPIキー名に置き換えてください。ヘッダーでトークンを渡す場合は、\"Authorization\"を使用\n                    \"providerArn\": credentialProviderARN,\n                    \"credentialLocation\":\"QUERY_PARAMETER\", # APIキーの場所。可能な値は \"HEADER\" と \"QUERY_PARAMETER\" です。\n                    #\"credentialPrefix\": \" \" # トークンのプレフィックス。有効な値は \"Basic\" です。トークンにのみ適用されます。\n            }\n        }\n    }\n  ]\n\ntargetname='DemoOpenAPITargetS3NasaMars'\nresponse = gateway_client.create_gateway_target(\n    gatewayIdentifier=gatewayID,\n    name=targetname,\n    description='SDKを使用したS3UriによるOpenAPIターゲット',\n    targetConfiguration=nasa_openapi_s3_target_config,\n    credentialProviderConfigurations=api_key_credential_config)"
  },
  {
   "cell_type": "markdown",
   "id": "d3ac6532-5299-4024-917d-bcd60caea6ed",
   "metadata": {},
   "source": "# Strands AgentからBedrock AgentCore Gatewayを呼び出し\n\nStrands AgentはBedrock AgentCore Gatewayを通じてAWSツールとシームレスに統合され、GatewayはModel Context Protocol（MCP）仕様を実装しています。この統合により、AIエージェントとAWSサービス間での安全で標準化されたコミュニケーションが可能になります。\n\nその核心において、Bedrock AgentCore Gatewayは基本的なMCP API（ListToolsとInvokeTools）を公開するプロトコル準拠のGatewayとして機能します。これらのAPIにより、MCP準拠のクライアントまたはSDKは、安全で標準化された方法で利用可能なツールを発見し、対話することができます。Strands AgentがAWSサービスにアクセスする必要がある場合、これらのMCP標準化エンドポイントを使用してGatewayと通信します。\n\nGatewayの実装は（MCP承認仕様）[https://modelcontextprotocol.org/specification/draft/basic/authorization]に厳密に準拠しており、堅牢なセキュリティとアクセス制御を確保します。これは、Strands AgentによるすべてのツールInvocationが承認ステップを通過することを意味し、強力な機能を有効にしながらセキュリティを維持します。\n\n例えば、Strands AgentがMCPツールにアクセスする必要がある場合、まずListToolsを呼び出して利用可能なツールを発見し、次にInvokeToolsを使用して特定のアクションを実行します。Gatewayは必要なセキュリティ検証、プロトコル変換、およびサービス相互作用をすべて処理し、全体のプロセスをシームレスで安全にします。\n\nこのアーキテクチャアプローチは、MCP仕様を実装する任意のクライアントまたはSDKがGatewayを通じてAWSサービスと対話できることを意味し、AIエージェント統合のための汎用性があり将来に対応したソリューションとなります。"
  },
  {
   "cell_type": "markdown",
   "id": "873031fe-62b5-4196-91be-500c1f87dfd4",
   "metadata": {},
   "source": "# インバウンド認証用Amazon Cognitoからアクセストークンを要求"
  },
  {
   "cell_type": "code",
   "execution_count": null,
   "id": "3ed1d1d6-e84c-4286-bf25-3ad6a49723b9",
   "metadata": {},
   "outputs": [],
   "source": "print(\"Amazon Cognito認証機能からアクセストークンを要求中...ドメイン名の伝播が完了するまでしばらく失敗する場合があります\")\ntoken_response = utils.get_token(user_pool_id, client_id, client_secret,scopeString,REGION)\ntoken = token_response[\"access_token\"]\nprint(\"トークンレスポンス:\", token)"
  },
  {
   "cell_type": "markdown",
   "id": "6fd0379d-9576-43cb-aa9b-72b86c43b472",
   "metadata": {},
   "source": "# Bedrock AgentCore Gatewayを使用してNASA Open APIを呼び出すことで火星天気エージェントに質問"
  },
  {
   "cell_type": "code",
   "execution_count": null,
   "id": "be4b39c4-7387-4ce8-b728-f2347fbdaa36",
   "metadata": {},
   "outputs": [],
   "source": "from strands.models import BedrockModel\nfrom mcp.client.streamable_http import streamablehttp_client \nfrom strands.tools.mcp.mcp_client import MCPClient\nfrom strands import Agent\n\ndef create_streamable_http_transport():\n    return streamablehttp_client(gatewayURL,headers={\"Authorization\": f\"Bearer {token}\"})\n\nclient = MCPClient(create_streamable_http_transport)\n\n## ~/.aws/credentialsで設定されたIAMグループ/ユーザーはBedrockモデルへのアクセス権限が必要\nyourmodel = BedrockModel(\n    model_id=\"us.amazon.nova-pro-v1:0\",\n    temperature=0.7,\n)"
  },
  {
   "cell_type": "code",
   "execution_count": null,
   "id": "e64794e7-4e5f-4fc5-824a-61c901e356c4",
   "metadata": {},
   "outputs": [],
   "source": "from strands import Agent\nimport logging\n\n\n# ルートstrandsロガーを設定します。問題をデバッグする場合はDEBUGに変更してください。\nlogging.getLogger(\"strands\").setLevel(logging.INFO)\n\n# ログを表示するためにハンドラーを追加\nlogging.basicConfig(\n    format=\"%(levelname)s | %(name)s | %(message)s\", \n    handlers=[logging.StreamHandler()]\n)\n\nwith client:\n    # listToolsを呼び出し\n    tools = client.list_tools_sync()\n    # モデルとツールでAgentを作成\n    agent = Agent(model=yourmodel,tools=tools) ## お好きなモデルに置き換えることができます\n    print(f\"エージェントにロードされたツール: {agent.tool_names}\")\n    #print(f\"エージェントのツール設定: {agent.tool_config}\")\n    # サンプルプロンプトでエージェントを呼び出し。これはMCP listToolsのみを呼び出し、LLMがアクセスできるツールのリストを取得します。下記では実際にツールを呼び出しません。\n    agent(\"こんにちは、利用可能なすべてのツールをリストしてもらえますか\")\n    agent(\"火星の北部地域の天気はどうですか\")\n    # サンプルプロンプトでエージェントを呼び出し、ツールを呼び出してレスポンスを表示\n    #MCPツールを明示的に呼び出し。MCPツール名と引数はAWS Lambda関数またはOpenAPI/Smithy APIと一致する必要があります\n    result = client.call_tool_sync(\n    tool_use_id=\"get-insight-weather-1\", # これを一意の識別子に置き換えることができます。\n    name=targetname+\"___getInsightWeather\", # これはAWS Lambda ターゲット形式に基づくツール名です。これはターゲット名に応じて変更されます\n    arguments={\"ver\": \"1.0\",\"feedtype\": \"json\"}\n    )\n    #MCPツールレスポンスを印刷\n    print(f\"ツール呼び出し結果: {result['content'][0]['text']}\")"
  },
  {
   "cell_type": "markdown",
   "id": "96f9ab38-fddc-454d-81fe-d6aa5c958292",
   "metadata": {},
   "source": "**問題: 下記のセルを実行時に以下のエラーが発生した場合、pydanticとpydantic-coreバージョン間の非互換性を示します。**\n\n```\nTypeError: model_schema() got an unexpected keyword argument 'generic_origin'\n```\n**解決方法は？**\n\n互換性のあるpydantic==2.7.2とpydantic-core 2.27.2を両方確実にインストールする必要があります。完了後にカーネルを再起動してください。"
  },
  {
   "cell_type": "markdown",
   "id": "fa8dd91d-15a6-45b2-b539-bb3eaf0e0e08",
   "metadata": {},
   "source": "# クリーンアップ\nIAMロール、IAMポリシー、認証情報プロバイダー、AWS Lambda関数、Cognitoユーザープール、s3バケットなどの追加リソースもクリーンアップの一環として手動で削除する必要がある場合があります。これは実行する例によって異なります。"
  },
  {
   "cell_type": "markdown",
   "id": "a22f158d-83b6-4d65-892f-9a208af3d742",
   "metadata": {},
   "source": "## Gatewayを削除（オプション）"
  },
  {
   "cell_type": "code",
   "execution_count": null,
   "id": "58d250fc-dd34-4eb3-8d5b-c9eac9de9c79",
   "metadata": {},
   "outputs": [],
   "source": [
    "import utils\n",
    "utils.delete_gateway(gateway_client,gatewayID)"
   ]
  }
 ],
 "metadata": {
  "kernelspec": {
   "display_name": "Python 3 (ipykernel)",
   "language": "python",
   "name": "python3"
  },
  "language_info": {
   "codemirror_mode": {
    "name": "ipython",
    "version": 3
   },
   "file_extension": ".py",
   "mimetype": "text/x-python",
   "name": "python",
   "nbconvert_exporter": "python",
   "pygments_lexer": "ipython3",
   "version": "3.12.9"
  }
 },
 "nbformat": 4,
 "nbformat_minor": 5
}