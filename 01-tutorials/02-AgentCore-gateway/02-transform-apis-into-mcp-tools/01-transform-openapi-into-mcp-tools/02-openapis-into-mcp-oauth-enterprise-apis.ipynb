{
 "cells": [
  {
   "cell_type": "markdown",
   "id": "4ba51a29-a566-4b5a-97f0-10e634567e40",
   "metadata": {
    "collapsed": true,
    "jupyter": {
     "outputs_hidden": true
    }
   },
   "source": "# Bedrock AgentCore Gatewayを使用してOpenAPI APIをMCPツールに変換する\n\n## 概要\nBedrock AgentCore Gatewayは、お客様がインフラストラクチャやホスティングの管理を必要とせずに、既存のAPIを完全管理型MCPサーバーに変換する方法を提供します。お客様はJSON または YAML形式のOpenAPI仕様を持参できます。OAuth2で保護されたエンタープライズサポートAPIを使用するカスタマーサービスエージェントを実演します。\n\nGatewayワークフローでは、エージェントを外部ツールに接続するために以下のステップが含まれます：\n* **Gatewayのツールを作成** - REST API用のOpenAPI仕様などのスキーマを使用してツールを定義します。OpenAPI仕様はGateway作成のためにAmazon Bedrock AgentCoreによって解析されます。\n* **Gatewayエンドポイントを作成** - インバウンド認証を伴うMCPエントリーポイントとして機能するGatewayを作成します。\n* **Gatewayにターゲットを追加** - Gatewayが特定のツールへのリクエストをルーティングする方法を定義するOpenAPIターゲットを設定します。OpenAPIファイルに含まれるすべてのAPIがMCP互換ツールとなり、Gateway エンドポイントURL経由で利用できるようになります。各OpenAPI GatewayターゲットでOauthを使用したアウトバウンド認証を設定します。\n* **エージェントコードを更新** - エージェントをGatewayエンドポイントに接続し、統合されたMCPインターフェースを通じてすべての設定済みツールにアクセスします。\n\n![仕組み](images/openapis-oauth-gateway.png)\n\n### チュートリアル詳細\n\n\n| 情報                 | 詳細                                                      |\n|:---------------------|:----------------------------------------------------------|\n| チュートリアル形式   | インタラクティブ                                          |\n| AgentCoreコンポーネント | AgentCore Gateway, AgentCore Identity                     |\n| エージェントフレームワーク | Strands Agent                                             |\n| Gatewayターゲット形式  | OpenAPI                                                   |\n| エージェント         | カスタマーサポートエージェント                            |\n| インバウンド認証IdP  | Okta                                                      |\n| アウトバウンド認証   | OAuth                                                     |\n| LLMモデル            | Anthropic Claude Sonnet 3.7, Amazon Nova Pro              |\n| チュートリアルコンポーネント | AgentCore Gatewayの作成とAgentCore Gatewayの呼び出し |\n| チュートリアル分野   | 分野横断                                                  |\n| 例の複雑さ           | 簡単                                                      |\n| 使用SDK              | boto3                                                     |\n\nチュートリアルの最初の部分では、いくつかのAmazonCore Gatewayターゲットを作成します\n\n### チュートリアルアーキテクチャ\nこのチュートリアルでは、OpenAPI yaml/jsonファイルで定義された操作をMCPツールに変換し、Bedrock AgentCore Gatewayでホストします。\n実演目的で、サポートチケットに関するクエリに答えるカスタマーサポートエージェントを構築します。エージェントはZendeskサポートAPIのOpenAPIを使用します。ソリューションはAmazon BedrockモデルとLangchain Agentを使用します。"
  },
  {
   "cell_type": "markdown",
   "id": "5362e1ad-f027-4452-a8d9-0b861c0115c2",
   "metadata": {},
   "source": "## 前提条件\n\nこのチュートリアルを実行するには以下が必要です：\n* Python 3.10+を使用したJupyter notebook\n* uv\n* AWS認証情報\n* Okta\n    - client_id\n    - client_secret\n    - あなたのOktaドメイン（例: dev-123456.okta.com）\n    - OAuth2認証サーバーID（多くの場合default）"
  },
  {
   "cell_type": "code",
   "execution_count": null,
   "id": "a17e1d70-9a76-42ce-b1ac-1c3a0bf4d12c",
   "metadata": {},
   "outputs": [],
   "source": [
    "!pip install --force-reinstall -U -r requirements.txt --quiet"
   ]
  },
  {
   "cell_type": "code",
   "execution_count": null,
   "id": "a4e6248d-b740-418b-ae0d-c0a9623e43e1",
   "metadata": {},
   "outputs": [],
   "source": "# SageMakerノートブックを使用しない場合はAWS認証情報を設定\nimport os\nos.environ['AWS_ACCESS_KEY_ID'] = ''\nos.environ['AWS_SECRET_ACCESS_KEY'] = ''\nos.environ['AWS_DEFAULT_REGION'] = os.environ.get('AWS_REGION', 'us-east-1')"
  },
  {
   "cell_type": "code",
   "execution_count": null,
   "id": "64829bf6-fba1-4d02-8bbf-451fc5deecc8",
   "metadata": {},
   "outputs": [],
   "source": "import os\nimport sys\n\n# 現在のスクリプトのディレクトリを取得\nif '__file__' in globals():\n    current_dir = os.path.dirname(os.path.abspath(__file__))\nelse:\n    current_dir = os.getcwd()  # __file__ が定義されていない場合のフォールバック (例: Jupyter)\n\n# utils.pyが含まれるディレクトリまで移動 (1レベル上)\nutils_dir = os.path.abspath(os.path.join(current_dir, '../..'))\n\n# sys.pathに追加\nsys.path.insert(0, utils_dir)\n\n# これでutilsをインポートできます\nimport utils"
  },
  {
   "cell_type": "code",
   "execution_count": null,
   "id": "10518aa1-3ac3-4610-a0cc-39c9c2eafe2c",
   "metadata": {},
   "outputs": [],
   "source": "#### Gatewayが引き受けるIAMロールを作成\nimport utils\n\nagentcore_gateway_iam_role = utils.create_agentcore_gateway_role(\"sample-lambdagateway\")\nprint(\"Agentcore gateway role ARN: \", agentcore_gateway_iam_role['Role']['Arn'])"
  },
  {
   "cell_type": "markdown",
   "id": "65120594-c3ec-4d51-810b-8d478851d8d2",
   "metadata": {},
   "source": "# Gatewayへのインバウンド認証用Oktaの設定\n\nOkta OAuth認証機能を作成するための手順は以下です：\n\n* [こちら](https://developer.okta.com/docs/guides/implement-grant-type/clientcreds/main/)の手順に従って、client credentialsグラント形式でアプリケーションを作成します。Oktaサブスクリプションをお持ちの場合、Admin consoleにログインし、[こちら](https://developer.okta.com/docs/guides/implement-grant-type/clientcreds/main/)で説明されている手順に従うことができます。Oktaサブスクリプションをお持ちでない場合は、無料トライアルにサインアップする必要があります。\n* Admin -> Applications に移動し、秘密鍵付きクライアントを作成します。トークン要求でDemonstrating Proof of Possession (DPoP) ヘッダーを要求するを無効にします\n* Okta Admin -> Security -> APIに移動します。default Authorization Serverを使用し、追加のスコープ（例: InvokeGateway）で変更します。オプションでAccess policiesとclaimsを追加できます\n* Custom Scopeを定義します。認証サーバー名をクリックし、Scopesタブに移動し、\"Add Scope\"をクリックします\n* 設定が完了したら、下記に示すようにGateway作成用のカスタムJWT Authorizerを設定するために、default Authorization Serverのメタデータ URI（別名Discovery URI）とClientID/Secretが必要です"
  },
  {
   "cell_type": "markdown",
   "id": "f1a63450-7fb9-42fc-ab4f-3d86c27bb2f8",
   "metadata": {},
   "source": "# インバウンド認証用Okta認証機能を持つGatewayを作成"
  },
  {
   "cell_type": "code",
   "execution_count": null,
   "id": "72f2cd57-7777-42d3-b6f3-c45ed0a935c4",
   "metadata": {},
   "outputs": [],
   "source": "import boto3\nfrom pprint import pprint\ngateway_client = boto3.client('bedrock-agentcore-control', region_name = os.environ['AWS_DEFAULT_REGION'])\n\nOKTA_DISCOVERY_URL=\"https://<YOUR OKTA DOMAIN>/oauth2/<Your app>/.well-known/openid-configuration\"\nOKTA_AUDIENCE=\"<Your audience>\" # 例: MCPGateway。Oktaでの設定と一致する必要があります\n\nauth_config = {\n        \"customJWTAuthorizer\": {\n            \"allowedAudience\": [OKTA_AUDIENCE],\n            \"discoveryUrl\": OKTA_DISCOVERY_URL\n        }\n}\ncreate_response = gateway_client.create_gateway(name='OpenAPIOktaGwy2',\n    roleArn = agentcore_gateway_iam_role['Role']['Arn'], # IAMロールはGateway の作成/一覧/取得/削除権限を持つ必要があります\n    protocolType='MCP',\n    authorizerType='CUSTOM_JWT',\n    authorizerConfiguration=auth_config, \n    description='Okta Authorizerを持つSDKで作成されたAgentCore Gateway'\n)\npprint(create_response)\n# GatewayTarget作成に使用するGatewayIDを取得\ngatewayID = create_response[\"gatewayId\"]\ngatewayURL = create_response[\"gatewayUrl\"]"
  },
  {
   "cell_type": "markdown",
   "id": "1345c920-3921-40c7-9c00-110e8d02184b",
   "metadata": {},
   "source": "# Bedrock AgentCore GatewayによってZendeskサポートAPIをMCPツールに変換"
  },
  {
   "cell_type": "markdown",
   "id": "8ea26177-4637-4b1f-82bd-6d65bfe8dc85",
   "metadata": {},
   "source": "### アウトバウンド認証の認証情報プロバイダーを作成"
  },
  {
   "cell_type": "code",
   "execution_count": null,
   "id": "64caa620-02ec-424a-a8b9-eb00b39289bf",
   "metadata": {},
   "outputs": [],
   "source": "from botocore.config import Config\nZENDESK_DOMAIN=\"<Zendeskドメインurl>\"\nZENDESK_AUTH_ENDPOINT=\"https://<Zendesk-domain>/oauth/authorizations/new\"\nZENDESK_TOKEN_ENDPOINT=\"https://<Zendesk-domain>/oauth/tokens\"\nZENDESK_CLIENT_ID=\"\" # あなたのZendesk OAuth client - client id \nZENDESK_SECRET=\"\"  # あなたのZendesk OAuth client - client id \n\nsdk_config = Config(\n    region_name=os.environ['AWS_DEFAULT_REGION'],\n    retries={\"max_attempts\": 2, \"mode\": \"standard\"},\n)\n\nacps = boto3.client(\n    service_name=\"bedrock-agentcore-control\",\n    config=sdk_config,\n)\n\nprovider_config= {\n    \"customOauth2ProviderConfig\": {\n         \"oauthDiscovery\": {\n             \"authorizationServerMetadata\": {\n                 \"issuer\": ZENDESK_DOMAIN,\n                 \"authorizationEndpoint\": ZENDESK_AUTH_ENDPOINT,\n                 \"tokenEndpoint\": ZENDESK_TOKEN_ENDPOINT,\n                 \"responseTypes\": [\"token\"]\n             }\n         },\n         \"clientId\": ZENDESK_CLIENT_ID,\n         \"clientSecret\": ZENDESK_SECRET\n     }\n }\n\nresponse = acps.create_oauth2_credential_provider(\n    name=\"ZendeskOAuthTokenCfg\", \n    credentialProviderVendor=\"CustomOauth2\", \n    oauth2ProviderConfigInput=provider_config\n)\n\npprint(response)\ncredentialProviderARN = response['credentialProviderArn']\npprint(f\"エグレス認証情報プロバイダーARN, {credentialProviderARN}\")"
  },
  {
   "cell_type": "markdown",
   "id": "510b092f-be1d-4b31-abb7-1fb8cab887ef",
   "metadata": {},
   "source": "### OpenAPIターゲットを作成"
  },
  {
   "cell_type": "markdown",
   "id": "c1cb1835-5aaf-471d-ac28-6f5fe78caf5a",
   "metadata": {},
   "source": "#### ZendeskサポートOpenAPI yamlファイルをS3にアップロード"
  },
  {
   "cell_type": "code",
   "execution_count": null,
   "id": "a105be4e-ae05-4981-a609-01d410f66023",
   "metadata": {},
   "outputs": [],
   "source": "# S3クライアントを作成\nsession = boto3.session.Session()\ns3_client = session.client('s3')\nsts_client = session.client('sts')\n\n# AWSアカウントIDとリージョンを取得\naccount_id = sts_client.get_caller_identity()[\"Account\"]\nregion = session.region_name\n# パラメータを定義\nbucket_name = '' # OpenAPI jsonファイルをアップロードするS3バケット\nfile_path = 'openapi-specs/Zendesk-support-apis.yaml'\nobject_key = 'Zendesk-support-apis.yaml'\n# put_objectを使用してファイルをアップロードし、レスポンスを読み取り\ntry:\n    with open(file_path, 'rb') as file_data:\n        response = s3_client.put_object(Bucket=bucket_name, Key=object_key, Body=file_data)\n\n    # アカウントIDとリージョンを含むアップロードされたオブジェクトのARNを構築\n    openapi_s3_uri = f's3://{bucket_name}/{object_key}'\n    print(f'アップロードされたオブジェクトのS3 URI: {openapi_s3_uri}')\nexcept Exception as e:\n    print(f'ファイルのアップロードエラー: {e}')"
  },
  {
   "cell_type": "markdown",
   "id": "715f371d-3118-4c7f-bb23-c90ab09e4284",
   "metadata": {},
   "source": "#### Gatewayターゲットを作成"
  },
  {
   "cell_type": "markdown",
   "id": "65c74344-bcea-48be-8a47-86c6d05be7c0",
   "metadata": {},
   "source": "OpenAPIファイル内のサーバーURLが自分のエンドポイントURLを指していることを確認してください。GatewayはOpenAPIファイルからサーバーURLを読み取り、エンドポイントを呼び出します。S3にアップロードする前に、この変更を行っていることを確認してください。"
  },
  {
   "cell_type": "code",
   "execution_count": null,
   "id": "629945ac-d1c3-49ae-92f7-4b0e0ef6d2c8",
   "metadata": {},
   "outputs": [],
   "source": "# OpenAPI仕様ファイル用のS3 URI\nopenapi_s3_target_config = {\n    \"mcp\": {\n          \"openApiSchema\": {\n              \"s3\": {\n                  \"uri\": openapi_s3_uri\n              }\n          }\n      }\n}\n\ncredential_config = [\n    {\n        \"credentialProviderType\" : \"OAUTH\",\n        \"credentialProvider\": {\n            \"oauthCredentialProvider\": {\n                \"providerArn\": credentialProviderARN, \n                \"scopes\": [\"tickets:read\", \"read\", \"tickets:write\", \"write\"] \n            }\n        }\n    }\n  ]\n\ntarget_name=\"DemoOpenAPIGW\"\nresponse = gateway_client.create_gateway_target(\n    gatewayIdentifier=gatewayID,\n    name=target_name,\n    description='SDKを使用したS3UriによるOpenAPIターゲット',\n    targetConfiguration=openapi_s3_target_config,\n    credentialProviderConfigurations=credential_config)\n\n# 問題/欠陥を報告する際に含めるリクエストIDとタイムスタンプを印刷します\nresponse_metadata = response['ResponseMetadata']"
  },
  {
   "cell_type": "markdown",
   "id": "d3ac6532-5299-4024-917d-bcd60caea6ed",
   "metadata": {},
   "source": "# Strands AgentからBedrock AgentCore Gatewayを呼び出し\n\nStrands AgentはBedrock AgentCore Gatewayを通じてAWSツールとシームレスに統合され、GatewayはModel Context Protocol（MCP）仕様を実装しています。この統合により、AIエージェントとAWSサービス間での安全で標準化されたコミュニケーションが可能になります。\n\nその核心において、Bedrock AgentCore Gatewayは基本的なMCP API（ListToolsとInvokeTools）を公開するプロトコル準拠のGatewayとして機能します。これらのAPIにより、MCP準拠のクライアントまたはSDKは、安全で標準化された方法で利用可能なツールを発見し、対話することができます。Strands AgentがAWSサービスにアクセスする必要がある場合、これらのMCP標準化エンドポイントを使用してGatewayと通信します。\n\nGatewayの実装は（MCP承認仕様）[https://modelcontextprotocol.org/specification/draft/basic/authorization]に厳密に準拠しており、堅牢なセキュリティとアクセス制御を確保します。これは、Strands AgentによるすべてのツールInvocationが承認ステップを通過することを意味し、強力な機能を有効にしながらセキュリティを維持します。\n\n例えば、Strands AgentがMCPツールにアクセスする必要がある場合、まずListToolsを呼び出して利用可能なツールを発見し、次にInvokeToolsを使用して特定のアクションを実行します。Gatewayは必要なセキュリティ検証、プロトコル変換、およびサービス相互作用をすべて処理し、全体のプロセスをシームレスで安全にします。\n\nこのアーキテクチャアプローチは、MCP仕様を実装する任意のクライアントまたはSDKがGatewayを通じてAWSサービスと対話できることを意味し、AIエージェント統合のための汎用性があり将来に対応したソリューションとなります。"
  },
  {
   "cell_type": "markdown",
   "id": "873031fe-62b5-4196-91be-500c1f87dfd4",
   "metadata": {},
   "source": "# インバウンド認証用Oktaからアクセストークンを要求"
  },
  {
   "cell_type": "code",
   "execution_count": null,
   "id": "3ed1d1d6-e84c-4286-bf25-3ad6a49723b9",
   "metadata": {},
   "outputs": [],
   "source": "print(\"Okta認証機能からアクセストークンを要求中\")\nimport requests\nfrom requests.auth import HTTPBasicAuth\n\n# 実際の値に置き換えてください\nOKTA_DOMAIN = \"あなたのOktaドメインURL\"\nAUTH_SERVER_ID = \"Oktaアプリid\"\nCLIENT_ID = \"<Oktaクライアント認証情報client id>\"\nCLIENT_SECRET = \"<Oktaクライアント認証情報secret>\"\n\nTOKEN_URL = f\"{OKTA_DOMAIN}/oauth2/{AUTH_SERVER_ID}/v1/token\"\n\nresponse = requests.post(\n    TOKEN_URL,\n    auth=HTTPBasicAuth(CLIENT_ID, CLIENT_SECRET),\n    headers={\"Content-Type\": \"application/x-www-form-urlencoded\"},\n    data={\"grant_type\": \"client_credentials\", \"scope\": \"InvokeGateway\"}\n)\n\nif response.status_code == 200:\n    token = response.json()[\"access_token\"]\n    print(\"Access Token:\", token)\nelse:\n    print(\"トークン取得失敗:\", response.status_code, response.text)"
  },
  {
   "cell_type": "markdown",
   "id": "6fd0379d-9576-43cb-aa9b-72b86c43b472",
   "metadata": {},
   "source": "# Bedrock AgentCore Gatewayを使用してZendeskサポートAPIでカスタマーサポートエージェントに質問"
  },
  {
   "cell_type": "code",
   "execution_count": null,
   "id": "be4b39c4-7387-4ce8-b728-f2347fbdaa36",
   "metadata": {},
   "outputs": [],
   "source": "from strands.models import BedrockModel\nfrom mcp.client.streamable_http import streamablehttp_client \nfrom strands.tools.mcp.mcp_client import MCPClient\nfrom strands import Agent\n\ndef create_streamable_http_transport():\n    return streamablehttp_client(gatewayURL,headers={\"Authorization\": f\"Bearer {token}\"})\n\nclient = MCPClient(create_streamable_http_transport)\n\n## ~/.aws/credentialsで設定されたIAMグループ/ユーザーはBedrockモデルへのアクセス権限が必要\nyourmodel = BedrockModel(\n    model_id=\"us.amazon.nova-pro-v1:0\",\n    temperature=0.7,\n)"
  },
  {
   "cell_type": "code",
   "execution_count": null,
   "id": "e64794e7-4e5f-4fc5-824a-61c901e356c4",
   "metadata": {},
   "outputs": [],
   "source": "from strands import Agent\nimport logging\n\n\n# ルートstrandsロガーを設定します。問題をデバッグする場合はDEBUGに変更してください。\nlogging.getLogger(\"strands\").setLevel(logging.INFO)\n\n# ログを表示するためにハンドラーを追加\nlogging.basicConfig(\n    format=\"%(levelname)s | %(name)s | %(message)s\", \n    handlers=[logging.StreamHandler()]\n)\n\nwith client:\n    # listToolsを呼び出し\n    tools = client.list_tools_sync()\n    # モデルとツールでAgentを作成\n    agent = Agent(model=yourmodel,tools=tools) ## お好きなモデルに置き換えることができます\n    #print(f\"エージェントにロードされたツール: {agent.tool_names}\")\n    #print(f\"エージェントのツール設定: {agent.tool_config}\")\n    \n    # サンプルプロンプトでエージェントを呼び出し。これはMCP listToolsのみを呼び出し、LLMがアクセスできるツールのリストを取得します。下記では実際にツールを呼び出しません。\n    #agent(\"こんにちは、利用可能なすべてのツールをリストしてもらえますか\")\n    agent(\"サポートチケットの数をカウントして\")\n    # MCPツールを明示的に呼び出し。MCPツール名と引数はAWS Lambda関数またはOpenAPI/Smithy APIと一致する必要があります\n    result = client.call_tool_sync(\n    tool_use_id=\"count-tickets-1\", # これを一意の識別子に置き換えることができます。\n    name=\"DemoOpenAPIGW___CountTickets\", # これはAWS Lambda ターゲット形式に基づくツール名です。これはターゲット名に応じて変更されます\n    )\n    #MCPツールレスポンスを印刷\n    print(f\"ツール呼び出し結果: {result['content'][0]['text']}\")"
  },
  {
   "cell_type": "markdown",
   "id": "fa8dd91d-15a6-45b2-b539-bb3eaf0e0e08",
   "metadata": {},
   "source": "# クリーンアップ\nIAMロール、IAMポリシー、認証情報プロバイダー、AWS Lambda関数、Cognitoユーザープール、s3バケットなどの追加リソースもクリーンアップの一環として手動で削除する必要がある場合があります。これは実行する例によって異なります。"
  },
  {
   "cell_type": "markdown",
   "id": "a22f158d-83b6-4d65-892f-9a208af3d742",
   "metadata": {},
   "source": "## Gatewayを削除（オプション）"
  },
  {
   "cell_type": "code",
   "execution_count": null,
   "id": "c3edc5b6-e5f0-47b9-994f-378415bad50d",
   "metadata": {},
   "outputs": [],
   "source": [
    "import utils\n",
    "utils.delete_gateway(gateway_client,gatewayID)"
   ]
  }
 ],
 "metadata": {
  "kernelspec": {
   "display_name": "Python 3 (ipykernel)",
   "language": "python",
   "name": "python3"
  },
  "language_info": {
   "codemirror_mode": {
    "name": "ipython",
    "version": 3
   },
   "file_extension": ".py",
   "mimetype": "text/x-python",
   "name": "python",
   "nbconvert_exporter": "python",
   "pygments_lexer": "ipython3",
   "version": "3.12.9"
  }
 },
 "nbformat": 4,
 "nbformat_minor": 5
}